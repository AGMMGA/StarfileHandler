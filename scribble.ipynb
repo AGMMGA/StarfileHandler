{
 "cells": [
  {
   "cell_type": "code",
   "execution_count": 10,
   "metadata": {},
   "outputs": [],
   "source": [
    "import pandas as pd\n",
    "\n",
    "from pathlib import Path\n",
    "\n",
    "from star_parser import StarParser, StarTabDf"
   ]
  },
  {
   "cell_type": "code",
   "execution_count": 11,
   "metadata": {},
   "outputs": [
    {
     "data": {
      "text/plain": [
       "True"
      ]
     },
     "execution_count": 11,
     "metadata": {},
     "output_type": "execute_result"
    }
   ],
   "source": [
    "work_folder = Path(r\"/mnt/DATA/sanket/SS_cryosparc_tutorial/P94/exports/jobs/P94_J295_new_local_refine/P94_J295_particles\")\n",
    "star_in=work_folder/\"P94_J295_particles_exported.star\"\n",
    "star_in.exists()"
   ]
  },
  {
   "cell_type": "code",
   "execution_count": 12,
   "metadata": {},
   "outputs": [
    {
     "data": {
      "text/plain": [
       "{'data_optics': StarTable data_optics with 7 columns and 1 record(s),\n",
       " 'data_particles': StarTable data_particles with 17 columns and 58963 record(s)}"
      ]
     },
     "execution_count": 12,
     "metadata": {},
     "output_type": "execute_result"
    }
   ],
   "source": [
    "parser = StarParser(star_in)\n",
    "data = parser.parse()\n",
    "data\n",
    "\n"
   ]
  },
  {
   "cell_type": "code",
   "execution_count": 13,
   "metadata": {},
   "outputs": [
    {
     "data": {
      "text/html": [
       "<div>\n",
       "<style scoped>\n",
       "    .dataframe tbody tr th:only-of-type {\n",
       "        vertical-align: middle;\n",
       "    }\n",
       "\n",
       "    .dataframe tbody tr th {\n",
       "        vertical-align: top;\n",
       "    }\n",
       "\n",
       "    .dataframe thead th {\n",
       "        text-align: right;\n",
       "    }\n",
       "</style>\n",
       "<table border=\"1\" class=\"dataframe\">\n",
       "  <thead>\n",
       "    <tr style=\"text-align: right;\">\n",
       "      <th></th>\n",
       "      <th>ImageName</th>\n",
       "      <th>MicrographName</th>\n",
       "      <th>CoordinateX</th>\n",
       "      <th>CoordinateY</th>\n",
       "      <th>AngleRot</th>\n",
       "      <th>AngleTilt</th>\n",
       "      <th>AnglePsi</th>\n",
       "      <th>OriginXAngst</th>\n",
       "      <th>OriginYAngst</th>\n",
       "      <th>DefocusU</th>\n",
       "      <th>DefocusV</th>\n",
       "      <th>DefocusAngle</th>\n",
       "      <th>PhaseShift</th>\n",
       "      <th>CtfBfactor</th>\n",
       "      <th>OpticsGroup</th>\n",
       "      <th>RandomSubset</th>\n",
       "      <th>ClassNumber</th>\n",
       "    </tr>\n",
       "  </thead>\n",
       "  <tbody>\n",
       "    <tr>\n",
       "      <th>0</th>\n",
       "      <td>000002@&gt;J232/extract/000046580904250580648_PC1...</td>\n",
       "      <td>&gt;J37/motioncorrected/000046580904250580648_PC1...</td>\n",
       "      <td>124</td>\n",
       "      <td>622</td>\n",
       "      <td>-61.997944</td>\n",
       "      <td>9.632133</td>\n",
       "      <td>-19.074518</td>\n",
       "      <td>-6.810502</td>\n",
       "      <td>-2.197494</td>\n",
       "      <td>19572.619141</td>\n",
       "      <td>18956.939453</td>\n",
       "      <td>18.796915</td>\n",
       "      <td>0.000000</td>\n",
       "      <td>0.000000</td>\n",
       "      <td>1</td>\n",
       "      <td>1</td>\n",
       "      <td>1</td>\n",
       "    </tr>\n",
       "    <tr>\n",
       "      <th>1</th>\n",
       "      <td>000003@&gt;J232/extract/000046580904250580648_PC1...</td>\n",
       "      <td>&gt;J37/motioncorrected/000046580904250580648_PC1...</td>\n",
       "      <td>1736</td>\n",
       "      <td>1446</td>\n",
       "      <td>-70.502190</td>\n",
       "      <td>17.822716</td>\n",
       "      <td>-98.067383</td>\n",
       "      <td>2.089769</td>\n",
       "      <td>-16.164796</td>\n",
       "      <td>19748.113281</td>\n",
       "      <td>19132.433594</td>\n",
       "      <td>18.796915</td>\n",
       "      <td>0.000000</td>\n",
       "      <td>0.000000</td>\n",
       "      <td>1</td>\n",
       "      <td>2</td>\n",
       "      <td>1</td>\n",
       "    </tr>\n",
       "    <tr>\n",
       "      <th>2</th>\n",
       "      <td>000004@&gt;J232/extract/000046580904250580648_PC1...</td>\n",
       "      <td>&gt;J37/motioncorrected/000046580904250580648_PC1...</td>\n",
       "      <td>2804</td>\n",
       "      <td>2122</td>\n",
       "      <td>-108.089394</td>\n",
       "      <td>162.323883</td>\n",
       "      <td>174.104996</td>\n",
       "      <td>-0.766055</td>\n",
       "      <td>-2.428422</td>\n",
       "      <td>19869.027344</td>\n",
       "      <td>19253.347656</td>\n",
       "      <td>18.796915</td>\n",
       "      <td>0.000000</td>\n",
       "      <td>0.000000</td>\n",
       "      <td>1</td>\n",
       "      <td>1</td>\n",
       "      <td>1</td>\n",
       "    </tr>\n",
       "    <tr>\n",
       "      <th>3</th>\n",
       "      <td>000005@&gt;J232/extract/000046580904250580648_PC1...</td>\n",
       "      <td>&gt;J37/motioncorrected/000046580904250580648_PC1...</td>\n",
       "      <td>3640</td>\n",
       "      <td>3530</td>\n",
       "      <td>-91.570412</td>\n",
       "      <td>29.975838</td>\n",
       "      <td>135.375702</td>\n",
       "      <td>13.706094</td>\n",
       "      <td>8.497225</td>\n",
       "      <td>19834.892578</td>\n",
       "      <td>19219.212891</td>\n",
       "      <td>18.796915</td>\n",
       "      <td>0.000000</td>\n",
       "      <td>0.000000</td>\n",
       "      <td>1</td>\n",
       "      <td>2</td>\n",
       "      <td>1</td>\n",
       "    </tr>\n",
       "    <tr>\n",
       "      <th>4</th>\n",
       "      <td>000007@&gt;J232/extract/000046580904250580648_PC1...</td>\n",
       "      <td>&gt;J37/motioncorrected/000046580904250580648_PC1...</td>\n",
       "      <td>168</td>\n",
       "      <td>1946</td>\n",
       "      <td>108.293953</td>\n",
       "      <td>166.972351</td>\n",
       "      <td>-71.821930</td>\n",
       "      <td>-5.742787</td>\n",
       "      <td>-18.934550</td>\n",
       "      <td>19568.599609</td>\n",
       "      <td>18952.919922</td>\n",
       "      <td>18.796915</td>\n",
       "      <td>0.000000</td>\n",
       "      <td>0.000000</td>\n",
       "      <td>1</td>\n",
       "      <td>1</td>\n",
       "      <td>1</td>\n",
       "    </tr>\n",
       "    <tr>\n",
       "      <th>...</th>\n",
       "      <td>...</td>\n",
       "      <td>...</td>\n",
       "      <td>...</td>\n",
       "      <td>...</td>\n",
       "      <td>...</td>\n",
       "      <td>...</td>\n",
       "      <td>...</td>\n",
       "      <td>...</td>\n",
       "      <td>...</td>\n",
       "      <td>...</td>\n",
       "      <td>...</td>\n",
       "      <td>...</td>\n",
       "      <td>...</td>\n",
       "      <td>...</td>\n",
       "      <td>...</td>\n",
       "      <td>...</td>\n",
       "      <td>...</td>\n",
       "    </tr>\n",
       "    <tr>\n",
       "      <th>58958</th>\n",
       "      <td>000287@&gt;J232/extract/018361092759710664315_PC1...</td>\n",
       "      <td>&gt;J37/motioncorrected/018361092759710664315_PC1...</td>\n",
       "      <td>148</td>\n",
       "      <td>1486</td>\n",
       "      <td>-33.642979</td>\n",
       "      <td>110.803246</td>\n",
       "      <td>3.949729</td>\n",
       "      <td>7.584101</td>\n",
       "      <td>0.167080</td>\n",
       "      <td>16362.669922</td>\n",
       "      <td>15719.116211</td>\n",
       "      <td>19.567274</td>\n",
       "      <td>0.000000</td>\n",
       "      <td>0.000000</td>\n",
       "      <td>1</td>\n",
       "      <td>2</td>\n",
       "      <td>1</td>\n",
       "    </tr>\n",
       "    <tr>\n",
       "      <th>58959</th>\n",
       "      <td>000288@&gt;J232/extract/018361092759710664315_PC1...</td>\n",
       "      <td>&gt;J37/motioncorrected/018361092759710664315_PC1...</td>\n",
       "      <td>2708</td>\n",
       "      <td>570</td>\n",
       "      <td>-19.588732</td>\n",
       "      <td>91.964119</td>\n",
       "      <td>137.898422</td>\n",
       "      <td>15.364144</td>\n",
       "      <td>-6.244948</td>\n",
       "      <td>16621.548828</td>\n",
       "      <td>15977.995117</td>\n",
       "      <td>19.567274</td>\n",
       "      <td>0.000000</td>\n",
       "      <td>0.000000</td>\n",
       "      <td>1</td>\n",
       "      <td>1</td>\n",
       "      <td>1</td>\n",
       "    </tr>\n",
       "    <tr>\n",
       "      <th>58960</th>\n",
       "      <td>000289@&gt;J232/extract/018361092759710664315_PC1...</td>\n",
       "      <td>&gt;J37/motioncorrected/018361092759710664315_PC1...</td>\n",
       "      <td>2572</td>\n",
       "      <td>530</td>\n",
       "      <td>-24.694624</td>\n",
       "      <td>90.038330</td>\n",
       "      <td>-166.547318</td>\n",
       "      <td>-2.892048</td>\n",
       "      <td>7.835585</td>\n",
       "      <td>16615.802734</td>\n",
       "      <td>15972.250000</td>\n",
       "      <td>19.567274</td>\n",
       "      <td>0.000000</td>\n",
       "      <td>0.000000</td>\n",
       "      <td>1</td>\n",
       "      <td>2</td>\n",
       "      <td>1</td>\n",
       "    </tr>\n",
       "    <tr>\n",
       "      <th>58961</th>\n",
       "      <td>000290@&gt;J232/extract/018361092759710664315_PC1...</td>\n",
       "      <td>&gt;J37/motioncorrected/018361092759710664315_PC1...</td>\n",
       "      <td>560</td>\n",
       "      <td>338</td>\n",
       "      <td>-157.548309</td>\n",
       "      <td>74.251617</td>\n",
       "      <td>13.618238</td>\n",
       "      <td>9.414366</td>\n",
       "      <td>-0.594624</td>\n",
       "      <td>16428.806641</td>\n",
       "      <td>15785.252930</td>\n",
       "      <td>19.567274</td>\n",
       "      <td>0.000000</td>\n",
       "      <td>0.000000</td>\n",
       "      <td>1</td>\n",
       "      <td>1</td>\n",
       "      <td>1</td>\n",
       "    </tr>\n",
       "    <tr>\n",
       "      <th>58962</th>\n",
       "      <td>000291@&gt;J232/extract/018361092759710664315_PC1...</td>\n",
       "      <td>&gt;J37/motioncorrected/018361092759710664315_PC1...</td>\n",
       "      <td>2452</td>\n",
       "      <td>2642</td>\n",
       "      <td>-7.206327</td>\n",
       "      <td>89.494751</td>\n",
       "      <td>-128.983841</td>\n",
       "      <td>-17.523505</td>\n",
       "      <td>-1.562495</td>\n",
       "      <td>16634.310547</td>\n",
       "      <td>15990.756836</td>\n",
       "      <td>19.567274</td>\n",
       "      <td>0.000000</td>\n",
       "      <td>0.000000</td>\n",
       "      <td>1</td>\n",
       "      <td>2</td>\n",
       "      <td>1</td>\n",
       "    </tr>\n",
       "  </tbody>\n",
       "</table>\n",
       "<p>58963 rows × 17 columns</p>\n",
       "</div>"
      ],
      "text/plain": [
       "                                               ImageName  \\\n",
       "0      000002@>J232/extract/000046580904250580648_PC1...   \n",
       "1      000003@>J232/extract/000046580904250580648_PC1...   \n",
       "2      000004@>J232/extract/000046580904250580648_PC1...   \n",
       "3      000005@>J232/extract/000046580904250580648_PC1...   \n",
       "4      000007@>J232/extract/000046580904250580648_PC1...   \n",
       "...                                                  ...   \n",
       "58958  000287@>J232/extract/018361092759710664315_PC1...   \n",
       "58959  000288@>J232/extract/018361092759710664315_PC1...   \n",
       "58960  000289@>J232/extract/018361092759710664315_PC1...   \n",
       "58961  000290@>J232/extract/018361092759710664315_PC1...   \n",
       "58962  000291@>J232/extract/018361092759710664315_PC1...   \n",
       "\n",
       "                                          MicrographName CoordinateX  \\\n",
       "0      >J37/motioncorrected/000046580904250580648_PC1...         124   \n",
       "1      >J37/motioncorrected/000046580904250580648_PC1...        1736   \n",
       "2      >J37/motioncorrected/000046580904250580648_PC1...        2804   \n",
       "3      >J37/motioncorrected/000046580904250580648_PC1...        3640   \n",
       "4      >J37/motioncorrected/000046580904250580648_PC1...         168   \n",
       "...                                                  ...         ...   \n",
       "58958  >J37/motioncorrected/018361092759710664315_PC1...         148   \n",
       "58959  >J37/motioncorrected/018361092759710664315_PC1...        2708   \n",
       "58960  >J37/motioncorrected/018361092759710664315_PC1...        2572   \n",
       "58961  >J37/motioncorrected/018361092759710664315_PC1...         560   \n",
       "58962  >J37/motioncorrected/018361092759710664315_PC1...        2452   \n",
       "\n",
       "      CoordinateY     AngleRot   AngleTilt     AnglePsi OriginXAngst  \\\n",
       "0             622   -61.997944    9.632133   -19.074518    -6.810502   \n",
       "1            1446   -70.502190   17.822716   -98.067383     2.089769   \n",
       "2            2122  -108.089394  162.323883   174.104996    -0.766055   \n",
       "3            3530   -91.570412   29.975838   135.375702    13.706094   \n",
       "4            1946   108.293953  166.972351   -71.821930    -5.742787   \n",
       "...           ...          ...         ...          ...          ...   \n",
       "58958        1486   -33.642979  110.803246     3.949729     7.584101   \n",
       "58959         570   -19.588732   91.964119   137.898422    15.364144   \n",
       "58960         530   -24.694624   90.038330  -166.547318    -2.892048   \n",
       "58961         338  -157.548309   74.251617    13.618238     9.414366   \n",
       "58962        2642    -7.206327   89.494751  -128.983841   -17.523505   \n",
       "\n",
       "      OriginYAngst      DefocusU      DefocusV DefocusAngle PhaseShift  \\\n",
       "0        -2.197494  19572.619141  18956.939453    18.796915   0.000000   \n",
       "1       -16.164796  19748.113281  19132.433594    18.796915   0.000000   \n",
       "2        -2.428422  19869.027344  19253.347656    18.796915   0.000000   \n",
       "3         8.497225  19834.892578  19219.212891    18.796915   0.000000   \n",
       "4       -18.934550  19568.599609  18952.919922    18.796915   0.000000   \n",
       "...            ...           ...           ...          ...        ...   \n",
       "58958     0.167080  16362.669922  15719.116211    19.567274   0.000000   \n",
       "58959    -6.244948  16621.548828  15977.995117    19.567274   0.000000   \n",
       "58960     7.835585  16615.802734  15972.250000    19.567274   0.000000   \n",
       "58961    -0.594624  16428.806641  15785.252930    19.567274   0.000000   \n",
       "58962    -1.562495  16634.310547  15990.756836    19.567274   0.000000   \n",
       "\n",
       "      CtfBfactor OpticsGroup RandomSubset ClassNumber  \n",
       "0       0.000000           1            1           1  \n",
       "1       0.000000           1            2           1  \n",
       "2       0.000000           1            1           1  \n",
       "3       0.000000           1            2           1  \n",
       "4       0.000000           1            1           1  \n",
       "...          ...         ...          ...         ...  \n",
       "58958   0.000000           1            2           1  \n",
       "58959   0.000000           1            1           1  \n",
       "58960   0.000000           1            2           1  \n",
       "58961   0.000000           1            1           1  \n",
       "58962   0.000000           1            2           1  \n",
       "\n",
       "[58963 rows x 17 columns]"
      ]
     },
     "execution_count": 13,
     "metadata": {},
     "output_type": "execute_result"
    }
   ],
   "source": [
    "ptcls = data[\"data_particles\"]\n",
    "# ptcls.keep_only_columns(['MicrographName','CoordinateX','CoordinateY'], store=True)\n",
    "ptcls.to_df()"
   ]
  },
  {
   "cell_type": "code",
   "execution_count": 14,
   "metadata": {},
   "outputs": [
    {
     "data": {
      "text/plain": [
       "'000002@>J232/extract/000046580904250580648_PC1_211110_2_196_patch_aligned_doseweighted_particles.mrcs'"
      ]
     },
     "execution_count": 14,
     "metadata": {},
     "output_type": "execute_result"
    }
   ],
   "source": [
    "import re\n",
    "prefix = re.compile(\".mrc\")\n",
    "ptcls.apply_regex_to_column(prefix, '.mrcs', 'ImageName', store=True)\n",
    "ptcls.to_df()['ImageName'][0]"
   ]
  },
  {
   "cell_type": "code",
   "execution_count": 15,
   "metadata": {},
   "outputs": [
    {
     "data": {
      "text/plain": [
       "'PC1_211110_2_196_patch_aligned_doseweighted.mrc'"
      ]
     },
     "execution_count": 15,
     "metadata": {},
     "output_type": "execute_result"
    }
   ],
   "source": [
    "ptcls.trim_column_values('MicrographName', start=len('>J37/motioncorrected/000046580904250580648_'), store=True)\n",
    "ptcls.to_df()['MicrographName'][0]"
   ]
  },
  {
   "cell_type": "code",
   "execution_count": 16,
   "metadata": {},
   "outputs": [
    {
     "data": {
      "text/plain": [
       "'PC1_211110_2_196.mrc'"
      ]
     },
     "execution_count": 16,
     "metadata": {},
     "output_type": "execute_result"
    }
   ],
   "source": [
    "ptcls.remove_string_from_column_name('_patch_aligned_doseweighted', 'MicrographName', store=True)\n",
    "ptcls.to_df()['MicrographName'][0]"
   ]
  },
  {
   "cell_type": "code",
   "execution_count": 17,
   "metadata": {},
   "outputs": [
    {
     "data": {
      "text/plain": [
       "'000002@>J232/extract/000046580904250580648_PC1_211110_2_196_patch_aligned_doseweighted_particles.mrcs'"
      ]
     },
     "execution_count": 17,
     "metadata": {},
     "output_type": "execute_result"
    }
   ],
   "source": [
    "ptcls.to_df()['ImageName'][0]"
   ]
  },
  {
   "cell_type": "code",
   "execution_count": null,
   "metadata": {},
   "outputs": [],
   "source": [
    "'000002@>J232/extract/000046580904250580648_PC1_211110_2_196_patch_aligned_doseweighted_particles.mrcs'.replace()"
   ]
  },
  {
   "cell_type": "code",
   "execution_count": null,
   "metadata": {},
   "outputs": [],
   "source": [
    "split = ptcls.to_df().groupby('MicrographName')\n",
    "split_dir = work_folder/'J81_particles'\n",
    "if not split_dir.exists():\n",
    "    split_dir.mkdir()\n",
    "for fname, data in split:\n",
    "    x = StarTabDf(data)\n",
    "    fname = fname.replace('.mrc','.star')\n",
    "    with open(split_dir/fname, 'w') as f:\n",
    "        f.write(x.to_star())\n"
   ]
  },
  {
   "cell_type": "code",
   "execution_count": null,
   "metadata": {},
   "outputs": [],
   "source": [
    "from cs_parser import *\n",
    "\n"
   ]
  },
  {
   "cell_type": "code",
   "execution_count": null,
   "metadata": {},
   "outputs": [],
   "source": [
    "test_file = work_folder/\"extracted_particles.cs\"\n",
    "assert test_file.exists()\n",
    "destination_file = work_folder/\"P95_J544_passthrough_particles.star\"\n",
    "remove_cryosparc_suffix = True # remove _patch_aligned_doseweighted\n",
    "job_id = \"J2\"\n",
    "remove_cryosparc_prefix= True #remove <job_id>/motioncorrected/<micrograph uid>_\n",
    "\n",
    "\n",
    "parser2 = CsParser(test_file)\n",
    "array = parser2.parse_array()"
   ]
  },
  {
   "cell_type": "code",
   "execution_count": null,
   "metadata": {},
   "outputs": [],
   "source": [
    "from pprint import pprint\n",
    "a = array.cs_array.copy()\n",
    "dtypes = a.dtype.fields\n",
    "problematic = []\n",
    "clean = []\n",
    "for index, value in enumerate(list(a[0])):\n",
    "    if isinstance(value, np.ndarray):\n",
    "        key = list(a.dtype.fields.keys())[index]\n",
    "        problematic.append(key)\n",
    "    else:\n",
    "        key = list(a.dtype.fields.keys())[index]\n",
    "        clean.append(key)"
   ]
  },
  {
   "cell_type": "code",
   "execution_count": null,
   "metadata": {},
   "outputs": [],
   "source": [
    "mapping_coords = {0:'x', 1:'y', 2:'z'}\n",
    "mapping_angles = {0:'alpha', 1:'beta', 2:'gamma'}\n",
    "rascals = a[problematic]\n",
    "index_column = range(a.shape[0])\n",
    "reformed = pd.DataFrame(index_column)\n",
    "# make dummy zero array column\n",
    "# reformed = np.zeros((rascals[problematic[0]].shape[0], 1))\n",
    "for key in problematic:\n",
    "    #if the name of the column is poses, they are angles;\n",
    "    #otherwise they are shifts\n",
    "    if 'pose' in key:\n",
    "        mapping = mapping_angles\n",
    "    else:\n",
    "        mapping = mapping_coords\n",
    "    #split the array into a list of n single columns\n",
    "    split_arrays = np.hsplit(rascals[key], rascals[key].shape[-1])\n",
    "    #rename their index\n",
    "    for index, array in enumerate(split_arrays):\n",
    "        try:\n",
    "            new_dtype = (f'{key}_{mapping[index]}')\n",
    "        except KeyError:\n",
    "            continue\n",
    "        reformed[new_dtype] = pd.DataFrame(array)\n",
    "        "
   ]
  },
  {
   "cell_type": "code",
   "execution_count": null,
   "metadata": {},
   "outputs": [],
   "source": [
    "good = a[clean]\n",
    "df = pd.DataFrame(good)\n",
    "new_columns = []\n",
    "for c in df.columns:\n",
    "    if c in mappings and mappings[c]:\n",
    "        new_columns.append(mappings[c])\n",
    "    else:\n",
    "        new_columns.append(c)\n",
    "df.columns = new_columns"
   ]
  },
  {
   "cell_type": "code",
   "execution_count": null,
   "metadata": {},
   "outputs": [],
   "source": [
    "df"
   ]
  },
  {
   "cell_type": "code",
   "execution_count": null,
   "metadata": {},
   "outputs": [],
   "source": [
    "invertx = False\n",
    "inverty = True\n",
    "swapxy = True\n",
    "crop_factor= 4"
   ]
  },
  {
   "cell_type": "code",
   "execution_count": null,
   "metadata": {},
   "outputs": [],
   "source": [
    "frac_coords = df[['FracCoordinateX','FracCoordinateY']]\n",
    "frac_coords"
   ]
  },
  {
   "cell_type": "code",
   "execution_count": null,
   "metadata": {},
   "outputs": [],
   "source": [
    "\n",
    "\n",
    "mic_size = reformed[['location/micrograph_shape_x','location/micrograph_shape_y']]\n",
    "abs_coords = pd.DataFrame()\n",
    "abs_coords\n"
   ]
  },
  {
   "cell_type": "code",
   "execution_count": null,
   "metadata": {},
   "outputs": [],
   "source": [
    "#this version of pandas complains about chained assignment even though it does not have a chained assignment\n",
    "pd.set_option('mode.chained_assignment', None)\n",
    "if invertx:\n",
    "    frac_coords.loc[:, 'FracCoordinateX'] = 1 -frac_coords.loc[:,'FracCoordinateX']\n",
    "if inverty:\n",
    "    frac_coords.loc[:, 'FracCoordinateY'] = 1- frac_coords.loc[:,'FracCoordinateY']\n",
    "pd.set_option('mode.chained_assignment', 'warn')\n",
    "if swapxy:\n",
    "    abs_coords['CoordinateX'] = pd.DataFrame(frac_coords['FracCoordinateX'] * reformed['location/micrograph_shape_y'])\n",
    "    abs_coords['CoordinateY'] = pd.DataFrame(frac_coords['FracCoordinateY'] * reformed['location/micrograph_shape_x'])\n",
    "    abs_coords = abs_coords * crop_factor\n",
    "    abs_coords = abs_coords.applymap(np.rint).astype(int)\n",
    "else:\n",
    "    abs_coords['CoordinateX'] = pd.DataFrame(frac_coords['FracCoordinateX'] * reformed['location/micrograph_shape_x'])\n",
    "    abs_coords['CoordinateY'] = pd.DataFrame(frac_coords['FracCoordinateY'] * reformed['location/micrograph_shape_y'])\n",
    "    abs_coords = abs_coords * crop_factor\n",
    "    abs_coords = abs_coords.applymap(np.rint).astype(int)\n",
    "abs_coords"
   ]
  }
 ],
 "metadata": {
  "interpreter": {
   "hash": "3524885e8e28558ba8512b7cc9e3b8f5a8a6894467a4225a9bbdc8407c72df26"
  },
  "kernelspec": {
   "display_name": "Python 3.8.8 64-bit ('sobolev_alignment': conda)",
   "name": "python3"
  },
  "language_info": {
   "codemirror_mode": {
    "name": "ipython",
    "version": 3
   },
   "file_extension": ".py",
   "mimetype": "text/x-python",
   "name": "python",
   "nbconvert_exporter": "python",
   "pygments_lexer": "ipython3",
   "version": "3.8.12"
  },
  "orig_nbformat": 2
 },
 "nbformat": 4,
 "nbformat_minor": 2
}
