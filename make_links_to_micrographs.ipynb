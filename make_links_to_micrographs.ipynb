{
 "cells": [
  {
   "cell_type": "code",
   "execution_count": 1,
   "source": [
    "from pathlib import Path\n"
   ],
   "outputs": [],
   "metadata": {}
  },
  {
   "cell_type": "code",
   "execution_count": 15,
   "source": [
    "work_folder = Path('/mnt/DATA/andrea/AM_20210709_USP7_GMPS_P53Ub/cryolo_train_200')\n",
    "mic_folder = Path('/mnt/DATA/andrea/AM_20210709_USP7_GMPS_P53Ub/P83/J2/motioncorrected/')"
   ],
   "outputs": [],
   "metadata": {}
  },
  {
   "cell_type": "code",
   "execution_count": 16,
   "source": [
    "link_folder = Path('/mnt/DATA/andrea/AM_20210709_USP7_GMPS_P53Ub/J2_motioncorrected_links')\n",
    "mic_names = mic_folder.glob('*_patch_aligned_doseweighted.mrc')"
   ],
   "outputs": [],
   "metadata": {}
  },
  {
   "cell_type": "code",
   "execution_count": 19,
   "source": [
    "m"
   ],
   "outputs": [
    {
     "output_type": "execute_result",
     "data": {
      "text/plain": [
       "PosixPath('/mnt/DATA/andrea/AM_20210709_USP7_GMPS_P53Ub/P83/J2/motioncorrected/012147578597390658378_FoilHole_9260538_Data_9251967_9251969_20210709_232249_fractions_patch_aligned_doseweighted.mrc')"
      ]
     },
     "metadata": {},
     "execution_count": 19
    }
   ],
   "metadata": {}
  },
  {
   "cell_type": "code",
   "execution_count": 20,
   "source": [
    "if not link_folder.exists():\n",
    "    link_folder.mkdir()\n",
    "for m in mic_names:\n",
    "    (link_folder/m.name).symlink_to(mic_folder/m.name)"
   ],
   "outputs": [
    {
     "output_type": "stream",
     "name": "stdout",
     "text": [
      "ed_doseweighted.mrc\n",
      "/mnt/DATA/andrea/AM_20210709_USP7_GMPS_P53Ub/P83/J2/motioncorrected/015637218129661308066_FoilHole_9263245_Data_9251955_9251957_20210710_053324_fractions_patch_aligned_doseweighted.mrc\n",
      "/mnt/DATA/andrea/AM_20210709_USP7_GMPS_P53Ub/P83/J2/motioncorrected/015928550250513719308_FoilHole_9254754_Data_9251955_9251957_20210709_161237_fractions_patch_aligned_doseweighted.mrc\n",
      "/mnt/DATA/andrea/AM_20210709_USP7_GMPS_P53Ub/P83/J2/motioncorrected/005887112028533984204_FoilHole_9260993_Data_9251967_9251969_20210710_000954_fractions_patch_aligned_doseweighted.mrc\n",
      "/mnt/DATA/andrea/AM_20210709_USP7_GMPS_P53Ub/P83/J2/motioncorrected/002477321687975075475_FoilHole_9264232_Data_9251967_9251969_20210710_072120_fractions_patch_aligned_doseweighted.mrc\n",
      "/mnt/DATA/andrea/AM_20210709_USP7_GMPS_P53Ub/P83/J2/motioncorrected/007150578870710667084_FoilHole_9261799_Data_9251967_9251969_20210710_030051_fractions_patch_aligned_doseweighted.mrc\n",
      "/mnt/DATA/andrea/AM_20210709_USP7_GMPS_P53Ub/P83/J2/motioncorrected/006855018508950119015_FoilHole_9265265_Data_9251967_9251969_20210710_093104_fractions_patch_aligned_doseweighted.mrc\n",
      "/mnt/DATA/andrea/AM_20210709_USP7_GMPS_P53Ub/P83/J2/motioncorrected/016766218121659330909_FoilHole_9259583_Data_9251967_9251969_20210709_220302_fractions_patch_aligned_doseweighted.mrc\n",
      "/mnt/DATA/andrea/AM_20210709_USP7_GMPS_P53Ub/P83/J2/motioncorrected/011017409063238410148_FoilHole_9257161_Data_9251967_9251969_20210709_191802_fractions_patch_aligned_doseweighted.mrc\n",
      "/mnt/DATA/andrea/AM_20210709_USP7_GMPS_P53Ub/P83/J2/motioncorrected/005018624810941491981_FoilHole_9261017_Data_9251967_9251969_20210710_000626_fractions_patch_aligned_doseweighted.mrc\n",
      "/mnt/DATA/andrea/AM_20210709_USP7_GMPS_P53Ub/P83/J2/motioncorrected/002405950822746607412_FoilHole_9254842_Data_9251967_9251969_20210709_164513_fractions_patch_aligned_doseweighted.mrc\n",
      "/mnt/DATA/andrea/AM_20210709_USP7_GMPS_P53Ub/P83/J2/motioncorrected/001862932961135366844_FoilHole_9268039_Data_9251967_9251969_20210710_015153_fractions_patch_aligned_doseweighted.mrc\n",
      "/mnt/DATA/andrea/AM_20210709_USP7_GMPS_P53Ub/P83/J2/motioncorrected/016349830614108425987_FoilHole_9260056_Data_9251955_9251957_20210709_225815_fractions_patch_aligned_doseweighted.mrc\n",
      "/mnt/DATA/andrea/AM_20210709_USP7_GMPS_P53Ub/P83/J2/motioncorrected/001153937742299848046_FoilHole_9252872_Data_9251955_9251957_20210709_140332_fractions_patch_aligned_doseweighted.mrc\n",
      "/mnt/DATA/andrea/AM_20210709_USP7_GMPS_P53Ub/P83/J2/motioncorrected/004269004016298347792_FoilHole_9262825_Data_9251967_9251969_20210710_044232_fractions_patch_aligned_doseweighted.mrc\n",
      "/mnt/DATA/andrea/AM_20210709_USP7_GMPS_P53Ub/P83/J2/motioncorrected/013140387200929629193_FoilHole_9266215_Data_9251955_9251957_20210710_111540_fractions_patch_aligned_doseweighted.mrc\n",
      "/mnt/DATA/andrea/AM_20210709_USP7_GMPS_P53Ub/P83/J2/motioncorrected/014147248337447881945_FoilHole_9262764_Data_9251955_9251957_20210710_040530_fractions_patch_aligned_doseweighted.mrc\n",
      "/mnt/DATA/andrea/AM_20210709_USP7_GMPS_P53Ub/P83/J2/motioncorrected/016739930392957545262_FoilHole_9263268_Data_9251967_9251969_20210710_052817_fractions_patch_aligned_doseweighted.mrc\n",
      "/mnt/DATA/andrea/AM_20210709_USP7_GMPS_P53Ub/P83/J2/motioncorrected/008700487109587825782_FoilHole_9257178_Data_9251955_9251957_20210709_192120_fractions_patch_aligned_doseweighted.mrc\n",
      "/mnt/DATA/andrea/AM_20210709_USP7_GMPS_P53Ub/P83/J2/motioncorrected/000774905775951274999_FoilHole_9263494_Data_9251967_9251969_20210710_055057_fractions_patch_aligned_doseweighted.mrc\n",
      "/mnt/DATA/andrea/AM_20210709_USP7_GMPS_P53Ub/P83/J2/motioncorrected/000485983975460279515_FoilHole_9254839_Data_9251955_9251957_20210709_164442_fractions_patch_aligned_doseweighted.mrc\n",
      "/mnt/DATA/andrea/AM_20210709_USP7_GMPS_P53Ub/P83/J2/motioncorrected/018182061304675385075_FoilHole_9268059_Data_9251955_9251957_20210710_015858_fractions_patch_aligned_doseweighted.mrc\n",
      "/mnt/DATA/andrea/AM_20210709_USP7_GMPS_P53Ub/P83/J2/motioncorrected/007570365064542517421_FoilHole_9264750_Data_9251955_9251957_20210710_081221_fractions_patch_aligned_doseweighted.mrc\n",
      "/mnt/DATA/andrea/AM_20210709_USP7_GMPS_P53Ub/P83/J2/motioncorrected/001591292670330820406_FoilHole_9260477_Data_9251955_9251957_20210709_231343_fractions_patch_aligned_doseweighted.mrc\n",
      "/mnt/DATA/andrea/AM_20210709_USP7_GMPS_P53Ub/P83/J2/motioncorrected/016437280071476404710_FoilHole_9264846_Data_9251955_9251957_20210710_084217_fractions_patch_aligned_doseweighted.mrc\n",
      "/mnt/DATA/andrea/AM_20210709_USP7_GMPS_P53Ub/P83/J2/motioncorrected/013447605934479596634_FoilHole_9264802_Data_9251955_9251957_20210710_082654_fractions_patch_aligned_doseweighted.mrc\n",
      "/mnt/DATA/andrea/AM_20210709_USP7_GMPS_P53Ub/P83/J2/motioncorrected/000208004621360954101_FoilHole_9262857_Data_9251967_9251969_20210710_045226_fractions_patch_aligned_doseweighted.mrc\n",
      "/mnt/DATA/andrea/AM_20210709_USP7_GMPS_P53Ub/P83/J2/motioncorrected/012157906452795684260_FoilHole_9255706_Data_9251967_9251969_20210709_173205_fractions_patch_aligned_doseweighted.mrc\n",
      "/mnt/DATA/andrea/AM_20210709_USP7_GMPS_P53Ub/P83/J2/motioncorrected/009245127125332417680_FoilHole_9265799_Data_9251967_9251969_20210710_104834_fractions_patch_aligned_doseweighted.mrc\n",
      "/mnt/DATA/andrea/AM_20210709_USP7_GMPS_P53Ub/P83/J2/motioncorrected/002397616301284600947_FoilHole_9255735_Data_9251955_9251957_20210709_174931_fractions_patch_aligned_doseweighted.mrc\n",
      "/mnt/DATA/andrea/AM_20210709_USP7_GMPS_P53Ub/P83/J2/motioncorrected/016815241213441504025_FoilHole_9258621_Data_9251967_9251969_20210709_211224_fractions_patch_aligned_doseweighted.mrc\n",
      "/mnt/DATA/andrea/AM_20210709_USP7_GMPS_P53Ub/P83/J2/motioncorrected/005994876622069132485_FoilHole_9254923_Data_9251967_9251969_20210709_165838_fractions_patch_aligned_doseweighted.mrc\n",
      "/mnt/DATA/andrea/AM_20210709_USP7_GMPS_P53Ub/P83/J2/motioncorrected/007826729290287243935_FoilHole_9262329_Data_9251955_9251957_20210710_034417_fractions_patch_aligned_doseweighted.mrc\n",
      "/mnt/DATA/andrea/AM_20210709_USP7_GMPS_P53Ub/P83/J2/motioncorrected/011273491352024088126_FoilHole_9259591_Data_9251955_9251957_20210709_220850_fractions_patch_aligned_doseweighted.mrc\n",
      "/mnt/DATA/andrea/AM_20210709_USP7_GMPS_P53Ub/P83/J2/motioncorrected/013096131278388692917_FoilHole_9256700_Data_9251955_9251957_20210709_184616_fractions_patch_aligned_doseweighted.mrc\n",
      "/mnt/DATA/andrea/AM_20210709_USP7_GMPS_P53Ub/P83/J2/motioncorrected/014404401702812493529_FoilHole_9267143_Data_9251955_9251957_20210710_005901_fractions_patch_aligned_doseweighted.mrc\n",
      "/mnt/DATA/andrea/AM_20210709_USP7_GMPS_P53Ub/P83/J2/motioncorrected/017104663851986971989_FoilHole_9265161_Data_9251955_9251957_20210710_085900_fractions_patch_aligned_doseweighted.mrc\n",
      "/mnt/DATA/andrea/AM_20210709_USP7_GMPS_P53Ub/P83/J2/motioncorrected/006879820746244259183_FoilHole_9262754_Data_9251967_9251969_20210710_041052_fractions_patch_aligned_doseweighted.mrc\n",
      "/mnt/DATA/andrea/AM_20210709_USP7_GMPS_P53Ub/P83/J2/motioncorrected/002501805594681121789_FoilHole_9268097_Data_9251955_9251957_20210710_021909_fractions_patch_aligned_doseweighted.mrc\n",
      "/mnt/DATA/andrea/AM_20210709_USP7_GMPS_P53Ub/P83/J2/motioncorrected/001538931547542417894_FoilHole_9259987_Data_9251955_9251957_20210709_224543_fractions_patch_aligned_doseweighted.mrc\n",
      "/mnt/DATA/andrea/AM_20210709_USP7_GMPS_P53Ub/P83/J2/motioncorrected/010579471431099547567_FoilHole_9259031_Data_9251967_9251969_20210709_214150_fractions_patch_aligned_doseweighted.mrc\n",
      "/mnt/DATA/andrea/AM_20210709_USP7_GMPS_P53Ub/P83/J2/motioncorrected/008694339512463356179_FoilHole_9257793_Data_9251967_9251969_20210709_201912_fractions_patch_aligned_doseweighted.mrc\n",
      "/mnt/DATA/andrea/AM_20210709_USP7_GMPS_P53Ub/P83/J2/motioncorrected/015869037819238038778_FoilHole_9252375_Data_9251955_9251957_20210709_132930_fractions_patch_aligned_doseweighted.mrc\n",
      "/mnt/DATA/andrea/AM_20210709_USP7_GMPS_P53Ub/P83/J2/motioncorrected/008350316162408364113_FoilHole_9262421_Data_9251967_9251969_20210710_035332_fractions_patch_aligned_doseweighted.mrc\n",
      "/mnt/DATA/andrea/AM_20210709_USP7_GMPS_P53Ub/P83/J2/motioncorrected/013380770000071831160_FoilHole_9264687_Data_9251955_9251957_20210710_074935_fractions_patch_aligned_doseweighted.mrc\n",
      "/mnt/DATA/andrea/AM_20210709_USP7_GMPS_P53Ub/P83/J2/motioncorrected/010935330388377548567_FoilHole_9251501_Data_9251967_9251969_20210709_122723_fractions_patch_aligned_doseweighted.mrc\n",
      "/mnt/DATA/andrea/AM_20210709_USP7_GMPS_P53Ub/P83/J2/motioncorrected/013403196262666717457_FoilHole_9259108_Data_9251955_9251957_20210709_214956_fractions_patch_aligned_doseweighted.mrc\n",
      "/mnt/DATA/andrea/AM_20210709_USP7_GMPS_P53Ub/P83/J2/motioncorrected/013072148054541330277_FoilHole_9260513_Data_9251955_9251957_20210709_233235_fractions_patch_aligned_doseweighted.mrc\n",
      "/mnt/DATA/andrea/AM_20210709_USP7_GMPS_P53Ub/P83/J2/motioncorrected/012685207743192637676_FoilHole_9268123_Data_9251967_9251969_20210710_021444_fractions_patch_aligned_doseweighted.mrc\n",
      "/mnt/DATA/andrea/AM_20210709_USP7_GMPS_P53Ub/P83/J2/motioncorrected/008469217575387165584_FoilHole_9267198_Data_9251955_9251957_20210710_010928_fractions_patch_aligned_doseweighted.mrc\n",
      "/mnt/DATA/andrea/AM_20210709_USP7_GMPS_P53Ub/P83/J2/motioncorrected/010344833690146165902_FoilHole_9251503_Data_9251955_9251957_20210709_122756_fractions_patch_aligned_doseweighted.mrc\n",
      "/mnt/DATA/andrea/AM_20210709_USP7_GMPS_P53Ub/P83/J2/motioncorrected/013616684893946306671_FoilHole_9267143_Data_9251967_9251969_20210710_005915_fractions_patch_aligned_doseweighted.mrc\n",
      "/mnt/DATA/andrea/AM_20210709_USP7_GMPS_P53Ub/P83/J2/motioncorrected/011100827874465848031_FoilHole_9267574_Data_9251955_9251957_20210710_013851_fractions_patch_aligned_doseweighted.mrc\n",
      "/mnt/DATA/andrea/AM_20210709_USP7_GMPS_P53Ub/P83/J2/motioncorrected/012567496026265370651_FoilHole_9253349_Data_9251955_9251957_20210709_144611_fractions_patch_aligned_doseweighted.mrc\n",
      "/mnt/DATA/andrea/AM_20210709_USP7_GMPS_P53Ub/P83/J2/motioncorrected/010838841252838442094_FoilHole_9267150_Data_9251955_9251957_20210710_004323_fractions_patch_aligned_doseweighted.mrc\n",
      "/mnt/DATA/andrea/AM_20210709_USP7_GMPS_P53Ub/P83/J2/motioncorrected/016011157598026638620_FoilHole_9263216_Data_9251955_9251957_20210710_045902_fractions_patch_aligned_doseweighted.mrc\n",
      "/mnt/DATA/andrea/AM_20210709_USP7_GMPS_P53Ub/P83/J2/motioncorrected/010124250416075701588_FoilHole_9252888_Data_9251967_9251969_20210709_140543_fractions_patch_aligned_doseweighted.mrc\n",
      "/mnt/DATA/andrea/AM_20210709_USP7_GMPS_P53Ub/P83/J2/motioncorrected/015249206565677328657_FoilHole_9266224_Data_9251955_9251957_20210710_112839_fractions_patch_aligned_doseweighted.mrc\n",
      "/mnt/DATA/andrea/AM_20210709_USP7_GMPS_P53Ub/P83/J2/motioncorrected/005027804128812307114_FoilHole_9268099_Data_9251955_9251957_20210710_021934_fractions_patch_aligned_doseweighted.mrc\n",
      "/mnt/DATA/andrea/AM_20210709_USP7_GMPS_P53Ub/P83/J2/motioncorrected/005192862357175876741_FoilHole_9268132_Data_9251967_9251969_20210710_022012_fractions_patch_aligned_doseweighted.mrc\n",
      "/mnt/DATA/andrea/AM_20210709_USP7_GMPS_P53Ub/P83/J2/motioncorrected/006322013876162081506_FoilHole_9261832_Data_9251955_9251957_20210710_024646_fractions_patch_aligned_doseweighted.mrc\n",
      "/mnt/DATA/andrea/AM_20210709_USP7_GMPS_P53Ub/P83/J2/motioncorrected/001669468777763289627_FoilHole_9267177_Data_9251967_9251969_20210710_005541_fractions_patch_aligned_doseweighted.mrc\n",
      "/mnt/DATA/andrea/AM_20210709_USP7_GMPS_P53Ub/P83/J2/motioncorrected/018335526480993576536_FoilHole_9254284_Data_9251967_9251969_20210709_154334_fractions_patch_aligned_doseweighted.mrc\n",
      "/mnt/DATA/andrea/AM_20210709_USP7_GMPS_P53Ub/P83/J2/motioncorrected/006482868725798063891_FoilHole_9257674_Data_9251967_9251969_20210709_201219_fractions_patch_aligned_doseweighted.mrc\n",
      "/mnt/DATA/andrea/AM_20210709_USP7_GMPS_P53Ub/P83/J2/motioncorrected/008327071703894969817_FoilHole_9267564_Data_9251955_9251957_20210710_012831_fractions_patch_aligned_doseweighted.mrc\n",
      "/mnt/DATA/andrea/AM_20210709_USP7_GMPS_P53Ub/P83/J2/motioncorrected/010195689921652143813_FoilHole_9268163_Data_9251967_9251969_20210710_021532_fractions_patch_aligned_doseweighted.mrc\n",
      "/mnt/DATA/andrea/AM_20210709_USP7_GMPS_P53Ub/P83/J2/motioncorrected/008391528742038957882_FoilHole_9264320_Data_9251967_9251969_20210710_072836_fractions_patch_aligned_doseweighted.mrc\n",
      "/mnt/DATA/andrea/AM_20210709_USP7_GMPS_P53Ub/P83/J2/motioncorrected/012902929534700287474_FoilHole_9254862_Data_9251967_9251969_20210709_164846_fractions_patch_aligned_doseweighted.mrc\n",
      "/mnt/DATA/andrea/AM_20210709_USP7_GMPS_P53Ub/P83/J2/motioncorrected/015058184196981788756_FoilHole_9267073_Data_9251967_9251969_20210710_002646_fractions_patch_aligned_doseweighted.mrc\n",
      "/mnt/DATA/andrea/AM_20210709_USP7_GMPS_P53Ub/P83/J2/motioncorrected/007877005761574679360_FoilHole_9262902_Data_9251955_9251957_20210710_044708_fractions_patch_aligned_doseweighted.mrc\n",
      "/mnt/DATA/andrea/AM_20210709_USP7_GMPS_P53Ub/P83/J2/motioncorrected/007544407606319015601_FoilHole_9260744_Data_9251967_9251969_20210709_234527_fractions_patch_aligned_doseweighted.mrc\n",
      "/mnt/DATA/andrea/AM_20210709_USP7_GMPS_P53Ub/P83/J2/motioncorrected/010898865269491754186_FoilHole_9265679_Data_9251955_9251957_20210710_095047_fractions_patch_aligned_doseweighted.mrc\n",
      "/mnt/DATA/andrea/AM_20210709_USP7_GMPS_P53Ub/P83/J2/motioncorrected/003967655142323804794_FoilHole_9257705_Data_9251955_9251957_20210709_201347_fractions_patch_aligned_doseweighted.mrc\n",
      "/mnt/DATA/andrea/AM_20210709_USP7_GMPS_P53Ub/P83/J2/motioncorrected/012526435765367497516_FoilHole_9265244_Data_9251955_9251957_20210710_090423_fractions_patch_aligned_doseweighted.mrc\n",
      "/mnt/DATA/andrea/AM_20210709_USP7_GMPS_P53Ub/P83/J2/motioncorrected/000109080549164254631_FoilHole_9268165_Data_9251967_9251969_20210710_021616_fractions_patch_aligned_doseweighted.mrc\n",
      "/mnt/DATA/andrea/AM_20210709_USP7_GMPS_P53Ub/P83/J2/motioncorrected/009249535389064224870_FoilHole_9254871_Data_9251967_9251969_20210709_165511_fractions_patch_aligned_doseweighted.mrc\n",
      "/mnt/DATA/andrea/AM_20210709_USP7_GMPS_P53Ub/P83/J2/motioncorrected/008567377968254063765_FoilHole_9252968_Data_9251967_9251969_20210709_140857_fractions_patch_aligned_doseweighted.mrc\n",
      "/mnt/DATA/andrea/AM_20210709_USP7_GMPS_P53Ub/P83/J2/motioncorrected/003770142882939161921_FoilHole_9262797_Data_9251967_9251969_20210710_041247_fractions_patch_aligned_doseweighted.mrc\n",
      "/mnt/DATA/andrea/AM_20210709_USP7_GMPS_P53Ub/P83/J2/motioncorrected/010033911925959140670_FoilHole_9266167_Data_9251955_9251957_20210710_110234_fractions_patch_aligned_doseweighted.mrc\n",
      "/mnt/DATA/andrea/AM_20210709_USP7_GMPS_P53Ub/P83/J2/motioncorrected/000781971232170430222_FoilHole_9260745_Data_9251955_9251957_20210709_234539_fractions_patch_aligned_doseweighted.mrc\n",
      "/mnt/DATA/andrea/AM_20210709_USP7_GMPS_P53Ub/P83/J2/motioncorrected/016505329547282256327_FoilHole_9253810_Data_9251955_9251957_20210709_151517_fractions_patch_aligned_doseweighted.mrc\n",
      "/mnt/DATA/andrea/AM_20210709_USP7_GMPS_P53Ub/P83/J2/motioncorrected/009320966302750793148_FoilHole_9259022_Data_9251967_9251969_20210709_212951_fractions_patch_aligned_doseweighted.mrc\n",
      "/mnt/DATA/andrea/AM_20210709_USP7_GMPS_P53Ub/P83/J2/motioncorrected/005871432724506434804_FoilHole_9256244_Data_9251955_9251957_20210709_183753_fractions_patch_aligned_doseweighted.mrc\n",
      "/mnt/DATA/andrea/AM_20210709_USP7_GMPS_P53Ub/P83/J2/motioncorrected/006029718325467122680_FoilHole_9263332_Data_9251967_9251969_20210710_054228_fractions_patch_aligned_doseweighted.mrc\n",
      "/mnt/DATA/andrea/AM_20210709_USP7_GMPS_P53Ub/P83/J2/motioncorrected/005495473129564188250_FoilHole_9264710_Data_9251955_9251957_20210710_075740_fractions_patch_aligned_doseweighted.mrc\n",
      "/mnt/DATA/andrea/AM_20210709_USP7_GMPS_P53Ub/P83/J2/motioncorrected/012122622281383784449_FoilHole_9258227_Data_9251955_9251957_20210709_204918_fractions_patch_aligned_doseweighted.mrc\n",
      "/mnt/DATA/andrea/AM_20210709_USP7_GMPS_P53Ub/P83/J2/motioncorrected/013447713288792618479_FoilHole_9260506_Data_9251967_9251969_20210709_231853_fractions_patch_aligned_doseweighted.mrc\n",
      "/mnt/DATA/andrea/AM_20210709_USP7_GMPS_P53Ub/P83/J2/motioncorrected/014106216708514672484_FoilHole_9259508_Data_9251955_9251957_20210709_220336_fractions_patch_aligned_doseweighted.mrc\n",
      "/mnt/DATA/andrea/AM_20210709_USP7_GMPS_P53Ub/P83/J2/motioncorrected/001124608370314372118_FoilHole_9268168_Data_9251967_9251969_20210710_022630_fractions_patch_aligned_doseweighted.mrc\n",
      "/mnt/DATA/andrea/AM_20210709_USP7_GMPS_P53Ub/P83/J2/motioncorrected/006198780382909929639_FoilHole_9259506_Data_9251967_9251969_20210709_220036_fractions_patch_aligned_doseweighted.mrc\n",
      "/mnt/DATA/andrea/AM_20210709_USP7_GMPS_P53Ub/P83/J2/motioncorrected/012492014242875276622_FoilHole_9262278_Data_9251955_9251957_20210710_031749_fractions_patch_aligned_doseweighted.mrc\n",
      "/mnt/DATA/andrea/AM_20210709_USP7_GMPS_P53Ub/P83/J2/motioncorrected/006018161546985531689_FoilHole_9262330_Data_9251955_9251957_20210710_034438_fractions_patch_aligned_doseweighted.mrc\n",
      "/mnt/DATA/andrea/AM_20210709_USP7_GMPS_P53Ub/P83/J2/motioncorrected/016964567021441637055_FoilHole_9251547_Data_9251955_9251957_20210709_123517_fractions_patch_aligned_doseweighted.mrc\n",
      "/mnt/DATA/andrea/AM_20210709_USP7_GMPS_P53Ub/P83/J2/motioncorrected/012564566206087050224_FoilHole_9256703_Data_9251955_9251957_20210709_184945_fractions_patch_aligned_doseweighted.mrc\n",
      "/mnt/DATA/andrea/AM_20210709_USP7_GMPS_P53Ub/P83/J2/motioncorrected/010350612894544180653_FoilHole_9261797_Data_9251955_9251957_20210710_025353_fractions_patch_aligned_doseweighted.mrc\n",
      "/mnt/DATA/andrea/AM_20210709_USP7_GMPS_P53Ub/P83/J2/motioncorrected/007323476227347076054_FoilHole_9254278_Data_9251967_9251969_20210709_154819_fractions_patch_aligned_doseweighted.mrc\n",
      "/mnt/DATA/andrea/AM_20210709_USP7_GMPS_P53Ub/P83/J2/motioncorrected/012386863900552368705_FoilHole_9264843_Data_9251955_9251957_20210710_083517_fractions_patch_aligned_doseweighted.mrc\n",
      "/mnt/DATA/andrea/AM_20210709_USP7_GMPS_P53Ub/P83/J2/motioncorrected/014181336379628690405_FoilHole_9264750_Data_9251967_9251969_20210710_081234_fractions_patch_aligned_doseweighted.mrc\n",
      "/mnt/DATA/andrea/AM_20210709_USP7_GMPS_P53Ub/P83/J2/motioncorrected/002036322901151261853_FoilHole_9265680_Data_9251967_9251969_20210710_094517_fractions_patch_aligned_doseweighted.mrc\n",
      "/mnt/DATA/andrea/AM_20210709_USP7_GMPS_P53Ub/P83/J2/motioncorrected/001183493902713527269_FoilHole_9252385_Data_9251955_9251957_20210709_130949_fractions_patch_aligned_doseweighted.mrc\n",
      "/mnt/DATA/andrea/AM_20210709_USP7_GMPS_P53Ub/P83/J2/motioncorrected/017884448022355346882_FoilHole_9253319_Data_9251967_9251969_20210709_142625_fractions_patch_aligned_doseweighted.mrc\n",
      "/mnt/DATA/andrea/AM_20210709_USP7_GMPS_P53Ub/P83/J2/motioncorrected/009006895138742824160_FoilHole_9265271_Data_9251967_9251969_20210710_093406_fractions_patch_aligned_doseweighted.mrc\n",
      "/mnt/DATA/andrea/AM_20210709_USP7_GMPS_P53Ub/P83/J2/motioncorrected/001795642657640908731_FoilHole_9263376_Data_9251967_9251969_20210710_054831_fractions_patch_aligned_doseweighted.mrc\n",
      "/mnt/DATA/andrea/AM_20210709_USP7_GMPS_P53Ub/P83/J2/motioncorrected/007932789989119900361_FoilHole_9253822_Data_9251967_9251969_20210709_151759_fractions_patch_aligned_doseweighted.mrc\n",
      "/mnt/DATA/andrea/AM_20210709_USP7_GMPS_P53Ub/P83/J2/motioncorrected/018260823709743363289_FoilHole_9263846_Data_9251967_9251969_20210710_070023_fractions_patch_aligned_doseweighted.mrc\n",
      "/mnt/DATA/andrea/AM_20210709_USP7_GMPS_P53Ub/P83/J2/motioncorrected/015599730347124703780_FoilHole_9268175_Data_9251967_9251969_20210710_023225_fractions_patch_aligned_doseweighted.mrc\n",
      "/mnt/DATA/andrea/AM_20210709_USP7_GMPS_P53Ub/P83/J2/motioncorrected/001127326214607784780_FoilHole_9260062_Data_9251967_9251969_20210709_230525_fractions_patch_aligned_doseweighted.mrc\n",
      "/mnt/DATA/andrea/AM_20210709_USP7_GMPS_P53Ub/P83/J2/motioncorrected/010238094481001815008_FoilHole_9267119_Data_9251955_9251957_20210710_004152_fractions_patch_aligned_doseweighted.mrc\n",
      "/mnt/DATA/andrea/AM_20210709_USP7_GMPS_P53Ub/P83/J2/motioncorrected/016235331755389053708_FoilHole_9261797_Data_9251967_9251969_20210710_025405_fractions_patch_aligned_doseweighted.mrc\n"
     ]
    }
   ],
   "metadata": {
    "tags": [
     "outputPrepend"
    ]
   }
  },
  {
   "cell_type": "code",
   "execution_count": null,
   "source": [],
   "outputs": [],
   "metadata": {}
  }
 ],
 "metadata": {
  "orig_nbformat": 4,
  "language_info": {
   "name": "python",
   "version": "3.6.10",
   "mimetype": "text/x-python",
   "codemirror_mode": {
    "name": "ipython",
    "version": 3
   },
   "pygments_lexer": "ipython3",
   "nbconvert_exporter": "python",
   "file_extension": ".py"
  },
  "kernelspec": {
   "name": "python3",
   "display_name": "Python 3.6.10 64-bit ('cryolo': conda)"
  },
  "interpreter": {
   "hash": "003fc63fc75231966414e17ed2789cc8e150c54ca8218e26a9edc237f43d7a56"
  }
 },
 "nbformat": 4,
 "nbformat_minor": 2
}