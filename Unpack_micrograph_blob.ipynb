{
 "cells": [
  {
   "cell_type": "code",
   "execution_count": 25,
   "metadata": {},
   "outputs": [
    {
     "name": "stdout",
     "output_type": "stream",
     "text": [
      "The autoreload extension is already loaded. To reload it, use:\n",
      "  %reload_ext autoreload\n"
     ]
    }
   ],
   "source": [
    "#allow autoreload modules at every execution if requested\n",
    "%load_ext autoreload\n",
    "\n",
    "import tempfile\n",
    "import unittest\n",
    "\n",
    "from pathlib import Path\n",
    "from pprint import pprint\n",
    "\n",
    "import numpy as np\n",
    "import pandas as pd\n",
    "\n",
    "from cs_parser import CsParser, mappings\n",
    "from star_parser import StarTabDf, StarParser"
   ]
  },
  {
   "cell_type": "code",
   "execution_count": 26,
   "metadata": {},
   "outputs": [],
   "source": [
    "%autoreload 2\n",
    "work_folder = Path(\"/mnt/DATA/andrea/AM_20211112_NeCen_BRCA1AUb\")\n",
    "micrographs_file = work_folder/\"J89_exposures_accepted.cs\"\n",
    "link_folder = Path(\"/mnt/DATA/andrea/AM_20211112_NeCen_BRCA1AUb/cryolo_train/micrographs\")\n",
    "project_prefix = '/mnt/DATA/andrea/AM_20211112_NeCen_BRCA1AUb/P112/' #to be added to the link target because cryosparc only adds job number to the path;\n",
    "update_links = True #overwrite links if they already exist\n",
    "try:\n",
    "    assert micrographs_file.exists()\n",
    "except AssertionError:\n",
    "    raise AssertionError(f'File {micrographs_file} does not exist')\n",
    "particles_file = work_folder/\"J89_particles_accepted.cs\"\n",
    "particle_starfile = work_folder/\"J89_particles_selected.star\"\n",
    "parser = CsParser(micrographs_file)\n",
    "array = parser.parse_array()"
   ]
  },
  {
   "cell_type": "code",
   "execution_count": 27,
   "metadata": {},
   "outputs": [
    {
     "name": "stdout",
     "output_type": "stream",
     "text": [
      "mic is /mnt/DATA/andrea/AM_20211112_NeCen_BRCA1AUb/P112/J31/motioncorrected/007426128884927229762_FoilHole_12375391_Data_12377366_12377368_20211112_120722_fractions_patch_aligned_doseweighted.mrc\n",
      "link is /mnt/DATA/andrea/AM_20211112_NeCen_BRCA1AUb/cryolo_train/micrographs/007426128884927229762_FoilHole_12375391_Data_12377366_12377368_20211112_120722_fractions_patch_aligned_doseweighted.mrc\n"
     ]
    }
   ],
   "source": [
    "\n",
    "##process micrograph blob\n",
    "# remove multidimensional arrays\n",
    "a = array.cs_array.copy()\n",
    "dtypes = a.dtype.fields\n",
    "problematic = []\n",
    "clean = []\n",
    "for index, value in enumerate(list(a[0])):\n",
    "    if isinstance(value, np.ndarray):\n",
    "        key = list(a.dtype.fields.keys())[index]\n",
    "        problematic.append(key)\n",
    "    else:\n",
    "        key = list(a.dtype.fields.keys())[index]\n",
    "        clean.append(key)\n",
    "good = a[clean]\n",
    "#process micrograph paths \n",
    "df = pd.DataFrame(good)\n",
    "mics = df['micrograph_blob/path'].apply(lambda x: project_prefix + x.decode('utf-8'))\n",
    "mics = [work_folder/i for i in mics]\n",
    "#make links\n",
    "if not link_folder.exists():\n",
    "    link_folder.mkdir(parents=True)\n",
    "for m in mics:\n",
    "    print(f'mic is {m}')\n",
    "    assert m.exists()\n",
    "    link_name = link_folder/m.name\n",
    "    if update_links:\n",
    "        link_name.unlink(missing_ok=True)\n",
    "    print(f'link is {link_name}')\n",
    "    break\n",
    "    # link_name.symlink_to(m, )\n"
   ]
  },
  {
   "cell_type": "code",
   "execution_count": null,
   "metadata": {},
   "outputs": [],
   "source": []
  }
 ],
 "metadata": {
  "interpreter": {
   "hash": "6f968289293630ebd2ac7aad47f58f0fb458534ba97e3ee64d2b97a797be8954"
  },
  "kernelspec": {
   "display_name": "Python 3.9.7 64-bit ('starfile': conda)",
   "name": "python3"
  },
  "language_info": {
   "codemirror_mode": {
    "name": "ipython",
    "version": 3
   },
   "file_extension": ".py",
   "mimetype": "text/x-python",
   "name": "python",
   "nbconvert_exporter": "python",
   "pygments_lexer": "ipython3",
   "version": "3.9.7"
  },
  "orig_nbformat": 4
 },
 "nbformat": 4,
 "nbformat_minor": 2
}
