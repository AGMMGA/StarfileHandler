{
 "cells": [
  {
   "cell_type": "code",
   "execution_count": 1,
   "metadata": {},
   "outputs": [],
   "source": [
    "import os\n",
    "\n",
    "from pathlib import Path\n",
    "\n",
    "import pandas as pd\n",
    "\n",
    "from star_parser import StarParser, StarTabDf"
   ]
  },
  {
   "cell_type": "code",
   "execution_count": 5,
   "metadata": {
    "tags": []
   },
   "outputs": [
    {
     "name": "stdout",
     "output_type": "stream",
     "text": [
      "Data folder exists: True\n"
     ]
    }
   ],
   "source": [
    "data_folder = Path(r'/mnt/DATA/andrea/AM_20210709_USP7_GMPS_P53Ub/cryolo/pick/STAR')\n",
    "file_pattern = '*patch_aligned_doseweighted.star'\n",
    "mic_prefix = \"\"\n",
    "mic_prefix_remove = 0\n",
    "mic_suffix_add = \"\"\n",
    "mic_suffix_remove = \"\"\n",
    "star_out = \"cryolo_pick_all.star\"\n",
    "print(f'Data folder exists: {data_folder.exists()}')"
   ]
  },
  {
   "cell_type": "code",
   "execution_count": 6,
   "metadata": {},
   "outputs": [],
   "source": [
    "\n",
    "starfiles = list(data_folder.glob(f'{file_pattern}'))\n",
    "try:\n",
    "    assert starfiles\n",
    "except AssertionError:\n",
    "    print(f'No starfiles found in {data_folder}')\n",
    "collated = []\n",
    "for star in starfiles:\n",
    "    try:\n",
    "        data = StarParser(star).parse()['data_']\n",
    "    except KeyError: #empty starfile\n",
    "        continue\n",
    "    mic_name = mic_prefix + star.name.replace(mic_suffix_remove,\"\").replace('.star',f'{mic_suffix_add}.mrc')\n",
    "    data.fill_column('MicrographName', mic_name, create=True, store=True)\n",
    "    # data.remove_columns(['ClassNumber',\t'AnglePsi',\t'AutopickFigureOfMerit'], store=True)\n",
    "    new_order = [data.columns()[-1]] + data.columns()[:-1]\n",
    "    data.reorder_columns(new_order, store=True)\n",
    "    collated.append(data.to_df())"
   ]
  },
  {
   "cell_type": "code",
   "execution_count": 7,
   "metadata": {},
   "outputs": [],
   "source": [
    "merged = pd.concat(collated)\n",
    "collated_star = StarTabDf(merged)"
   ]
  },
  {
   "cell_type": "code",
   "execution_count": 8,
   "metadata": {},
   "outputs": [
    {
     "data": {
      "text/html": [
       "<div>\n",
       "<style scoped>\n",
       "    .dataframe tbody tr th:only-of-type {\n",
       "        vertical-align: middle;\n",
       "    }\n",
       "\n",
       "    .dataframe tbody tr th {\n",
       "        vertical-align: top;\n",
       "    }\n",
       "\n",
       "    .dataframe thead th {\n",
       "        text-align: right;\n",
       "    }\n",
       "</style>\n",
       "<table border=\"1\" class=\"dataframe\">\n",
       "  <thead>\n",
       "    <tr style=\"text-align: right;\">\n",
       "      <th></th>\n",
       "      <th>MicrographName</th>\n",
       "      <th>CoordinateX</th>\n",
       "      <th>CoordinateY</th>\n",
       "    </tr>\n",
       "  </thead>\n",
       "  <tbody>\n",
       "    <tr>\n",
       "      <th>0</th>\n",
       "      <td>002304263855996947171_FoilHole_9253300_Data_92...</td>\n",
       "      <td>2020.4137229919434</td>\n",
       "      <td>3996.238605044782</td>\n",
       "    </tr>\n",
       "    <tr>\n",
       "      <th>1</th>\n",
       "      <td>002304263855996947171_FoilHole_9253300_Data_92...</td>\n",
       "      <td>4365.162048339844</td>\n",
       "      <td>4004.4308914393187</td>\n",
       "    </tr>\n",
       "    <tr>\n",
       "      <th>2</th>\n",
       "      <td>002304263855996947171_FoilHole_9253300_Data_92...</td>\n",
       "      <td>4958.126106262207</td>\n",
       "      <td>3995.2327294796705</td>\n",
       "    </tr>\n",
       "    <tr>\n",
       "      <th>3</th>\n",
       "      <td>002304263855996947171_FoilHole_9253300_Data_92...</td>\n",
       "      <td>720.1175880432129</td>\n",
       "      <td>3938.81580157578</td>\n",
       "    </tr>\n",
       "    <tr>\n",
       "      <th>4</th>\n",
       "      <td>002304263855996947171_FoilHole_9253300_Data_92...</td>\n",
       "      <td>1354.3257808685303</td>\n",
       "      <td>3944.0038911402225</td>\n",
       "    </tr>\n",
       "    <tr>\n",
       "      <th>...</th>\n",
       "      <td>...</td>\n",
       "      <td>...</td>\n",
       "      <td>...</td>\n",
       "    </tr>\n",
       "    <tr>\n",
       "      <th>1208171</th>\n",
       "      <td>006190234053886453365_FoilHole_9253839_Data_92...</td>\n",
       "      <td>5659.521446228027</td>\n",
       "      <td>148.926931142807</td>\n",
       "    </tr>\n",
       "    <tr>\n",
       "      <th>1208172</th>\n",
       "      <td>006190234053886453365_FoilHole_9253839_Data_92...</td>\n",
       "      <td>862.6143836975098</td>\n",
       "      <td>88.31869626045227</td>\n",
       "    </tr>\n",
       "    <tr>\n",
       "      <th>1208173</th>\n",
       "      <td>006190234053886453365_FoilHole_9253839_Data_92...</td>\n",
       "      <td>3538.5514068603516</td>\n",
       "      <td>92.36625337600708</td>\n",
       "    </tr>\n",
       "    <tr>\n",
       "      <th>1208174</th>\n",
       "      <td>006190234053886453365_FoilHole_9253839_Data_92...</td>\n",
       "      <td>4067.7878952026367</td>\n",
       "      <td>98.85941791534424</td>\n",
       "    </tr>\n",
       "    <tr>\n",
       "      <th>1208175</th>\n",
       "      <td>006190234053886453365_FoilHole_9253839_Data_92...</td>\n",
       "      <td>4887.917633056641</td>\n",
       "      <td>103.27160882949829</td>\n",
       "    </tr>\n",
       "  </tbody>\n",
       "</table>\n",
       "<p>1208176 rows × 3 columns</p>\n",
       "</div>"
      ],
      "text/plain": [
       "                                            MicrographName  \\\n",
       "0        002304263855996947171_FoilHole_9253300_Data_92...   \n",
       "1        002304263855996947171_FoilHole_9253300_Data_92...   \n",
       "2        002304263855996947171_FoilHole_9253300_Data_92...   \n",
       "3        002304263855996947171_FoilHole_9253300_Data_92...   \n",
       "4        002304263855996947171_FoilHole_9253300_Data_92...   \n",
       "...                                                    ...   \n",
       "1208171  006190234053886453365_FoilHole_9253839_Data_92...   \n",
       "1208172  006190234053886453365_FoilHole_9253839_Data_92...   \n",
       "1208173  006190234053886453365_FoilHole_9253839_Data_92...   \n",
       "1208174  006190234053886453365_FoilHole_9253839_Data_92...   \n",
       "1208175  006190234053886453365_FoilHole_9253839_Data_92...   \n",
       "\n",
       "                CoordinateX         CoordinateY  \n",
       "0        2020.4137229919434   3996.238605044782  \n",
       "1         4365.162048339844  4004.4308914393187  \n",
       "2         4958.126106262207  3995.2327294796705  \n",
       "3         720.1175880432129    3938.81580157578  \n",
       "4        1354.3257808685303  3944.0038911402225  \n",
       "...                     ...                 ...  \n",
       "1208171   5659.521446228027    148.926931142807  \n",
       "1208172   862.6143836975098   88.31869626045227  \n",
       "1208173  3538.5514068603516   92.36625337600708  \n",
       "1208174  4067.7878952026367   98.85941791534424  \n",
       "1208175   4887.917633056641  103.27160882949829  \n",
       "\n",
       "[1208176 rows x 3 columns]"
      ]
     },
     "execution_count": 8,
     "metadata": {},
     "output_type": "execute_result"
    }
   ],
   "source": [
    "collated_star.to_df()"
   ]
  },
  {
   "cell_type": "code",
   "execution_count": 9,
   "metadata": {},
   "outputs": [],
   "source": [
    "with open(data_folder/f'../{star_out}', 'w') as f:\n",
    "    f.write(collated_star.to_star())"
   ]
  },
  {
   "cell_type": "code",
   "execution_count": null,
   "metadata": {},
   "outputs": [],
   "source": []
  }
 ],
 "metadata": {
  "interpreter": {
   "hash": "003fc63fc75231966414e17ed2789cc8e150c54ca8218e26a9edc237f43d7a56"
  },
  "kernelspec": {
   "display_name": "Python 3.6.10 64-bit ('cryolo': conda)",
   "name": "python3"
  },
  "language_info": {
   "codemirror_mode": {
    "name": "ipython",
    "version": 3
   },
   "file_extension": ".py",
   "mimetype": "text/x-python",
   "name": "python",
   "nbconvert_exporter": "python",
   "pygments_lexer": "ipython3",
   "version": "3.8.12"
  },
  "orig_nbformat": 2
 },
 "nbformat": 4,
 "nbformat_minor": 2
}
