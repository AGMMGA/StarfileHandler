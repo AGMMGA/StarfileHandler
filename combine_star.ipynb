{
 "metadata": {
  "language_info": {
   "codemirror_mode": {
    "name": "ipython",
    "version": 3
   },
   "file_extension": ".py",
   "mimetype": "text/x-python",
   "name": "python",
   "nbconvert_exporter": "python",
   "pygments_lexer": "ipython3",
   "version": "3.8.8"
  },
  "orig_nbformat": 2,
  "kernelspec": {
   "name": "python388jvsc74a57bd03524885e8e28558ba8512b7cc9e3b8f5a8a6894467a4225a9bbdc8407c72df26",
   "display_name": "Python 3.8.8 64-bit ('sobolev_alignment': conda)"
  }
 },
 "nbformat": 4,
 "nbformat_minor": 2,
 "cells": [
  {
   "cell_type": "code",
   "execution_count": 1,
   "metadata": {},
   "outputs": [],
   "source": [
    "import os\n",
    "\n",
    "from pathlib import Path\n",
    "\n",
    "import pandas as pd\n",
    "\n",
    "from star_parser import StarParser, StarTabDf"
   ]
  },
  {
   "cell_type": "code",
   "execution_count": 6,
   "metadata": {
    "tags": []
   },
   "outputs": [],
   "source": [
    "data_folder = Path(r'/mnt/DATA/andrea/2021_JBP3_reprocess/cryolo_pick_random50_general')\n",
    "starfiles = data_folder.glob('*doseweighted.star')\n",
    "collated = []\n",
    "for star in starfiles:\n",
    "    data = StarParser(star).parse()['data_']\n",
    "    mic_name = 'Micrographs/' + star.name.replace('star','mrc')\n",
    "    data.fill_column('MicrographName', mic_name, create=True, store=True)\n",
    "    new_order = [data.columns()[-1]] + data.columns()[:-1]\n",
    "    data.reorder_columns(new_order, store=True)\n",
    "    data.remove_columns(['ClassNumber',\t'AnglePsi',\t'AutopickFigureOfMerit'], store=True)\n",
    "    collated.append(data.to_df())\n"
   ]
  },
  {
   "cell_type": "code",
   "execution_count": 8,
   "metadata": {},
   "outputs": [],
   "source": [
    "merged = pd.concat(collated)\n",
    "collated_star = StarTabDf(merged)"
   ]
  },
  {
   "cell_type": "code",
   "execution_count": 10,
   "metadata": {},
   "outputs": [],
   "source": [
    "with open(data_folder/'cryolo_pick_random50_general.star', 'w') as f:\n",
    "    f.write(collated_star.to_star())"
   ]
  },
  {
   "cell_type": "code",
   "execution_count": null,
   "metadata": {},
   "outputs": [],
   "source": []
  }
 ]
}