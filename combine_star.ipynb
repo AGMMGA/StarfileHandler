{
 "cells": [
  {
   "cell_type": "code",
   "execution_count": 6,
   "metadata": {},
   "outputs": [],
   "source": [
    "import os\n",
    "\n",
    "from pathlib import Path\n",
    "\n",
    "import pandas as pd\n",
    "\n",
    "from star_parser import StarParser, StarTabDf"
   ]
  },
  {
   "cell_type": "code",
   "execution_count": 7,
   "metadata": {
    "tags": []
   },
   "outputs": [],
   "source": [
    "data_folder = Path(r'/mnt/DATA/andrea/AM_20211112_NeCen_BRCA1AUb/cryolo_pick')\n",
    "file_pattern = '*patch_aligned_doseweighted.star'\n",
    "mic_prefix = \"\"\n",
    "mic_prefix_remove = 0\n",
    "mic_suffix_add = \"\"\n",
    "mic_suffix_remove = \"\"\n",
    "star_out = \"cryolo_pick_all.star\""
   ]
  },
  {
   "cell_type": "code",
   "execution_count": 8,
   "metadata": {},
   "outputs": [],
   "source": [
    "\n",
    "starfiles = data_folder.glob(f'{file_pattern}')\n",
    "collated = []\n",
    "for star in starfiles:\n",
    "    data = StarParser(star).parse()['data_']\n",
    "    mic_name = mic_prefix + star.name.replace(mic_suffix_remove,\"\").replace('.star',f'{mic_suffix_add}.mrc')\n",
    "    data.fill_column('MicrographName', mic_name, create=True, store=True)\n",
    "    data.remove_columns(['ClassNumber',\t'AnglePsi',\t'AutopickFigureOfMerit'], store=True)\n",
    "    new_order = [data.columns()[-1]] + data.columns()[:-1]\n",
    "    data.reorder_columns(new_order, store=True)\n",
    "    collated.append(data.to_df())"
   ]
  },
  {
   "cell_type": "code",
   "execution_count": 9,
   "metadata": {},
   "outputs": [],
   "source": [
    "merged = pd.concat(collated)\n",
    "collated_star = StarTabDf(merged)"
   ]
  },
  {
   "cell_type": "code",
   "execution_count": 10,
   "metadata": {},
   "outputs": [
    {
     "data": {
      "text/html": [
       "<div>\n",
       "<style scoped>\n",
       "    .dataframe tbody tr th:only-of-type {\n",
       "        vertical-align: middle;\n",
       "    }\n",
       "\n",
       "    .dataframe tbody tr th {\n",
       "        vertical-align: top;\n",
       "    }\n",
       "\n",
       "    .dataframe thead th {\n",
       "        text-align: right;\n",
       "    }\n",
       "</style>\n",
       "<table border=\"1\" class=\"dataframe\">\n",
       "  <thead>\n",
       "    <tr style=\"text-align: right;\">\n",
       "      <th></th>\n",
       "      <th>MicrographName</th>\n",
       "      <th>CoordinateX</th>\n",
       "      <th>CoordinateY</th>\n",
       "    </tr>\n",
       "  </thead>\n",
       "  <tbody>\n",
       "    <tr>\n",
       "      <th>0</th>\n",
       "      <td>008479271629128263535_FoilHole_12390118_Data_1...</td>\n",
       "      <td>543.0</td>\n",
       "      <td>3977.0</td>\n",
       "    </tr>\n",
       "    <tr>\n",
       "      <th>1</th>\n",
       "      <td>008479271629128263535_FoilHole_12390118_Data_1...</td>\n",
       "      <td>1166.0</td>\n",
       "      <td>3989.0</td>\n",
       "    </tr>\n",
       "    <tr>\n",
       "      <th>2</th>\n",
       "      <td>008479271629128263535_FoilHole_12390118_Data_1...</td>\n",
       "      <td>1371.0</td>\n",
       "      <td>4003.0</td>\n",
       "    </tr>\n",
       "    <tr>\n",
       "      <th>3</th>\n",
       "      <td>008479271629128263535_FoilHole_12390118_Data_1...</td>\n",
       "      <td>3409.0</td>\n",
       "      <td>3975.0</td>\n",
       "    </tr>\n",
       "    <tr>\n",
       "      <th>4</th>\n",
       "      <td>008479271629128263535_FoilHole_12390118_Data_1...</td>\n",
       "      <td>2124.0</td>\n",
       "      <td>3939.0</td>\n",
       "    </tr>\n",
       "    <tr>\n",
       "      <th>...</th>\n",
       "      <td>...</td>\n",
       "      <td>...</td>\n",
       "      <td>...</td>\n",
       "    </tr>\n",
       "    <tr>\n",
       "      <th>1380792</th>\n",
       "      <td>000989967168210663599_FoilHole_12383667_Data_1...</td>\n",
       "      <td>1480.0</td>\n",
       "      <td>456.0</td>\n",
       "    </tr>\n",
       "    <tr>\n",
       "      <th>1380793</th>\n",
       "      <td>000989967168210663599_FoilHole_12383667_Data_1...</td>\n",
       "      <td>473.0</td>\n",
       "      <td>287.0</td>\n",
       "    </tr>\n",
       "    <tr>\n",
       "      <th>1380794</th>\n",
       "      <td>000989967168210663599_FoilHole_12383667_Data_1...</td>\n",
       "      <td>1963.0</td>\n",
       "      <td>172.0</td>\n",
       "    </tr>\n",
       "    <tr>\n",
       "      <th>1380795</th>\n",
       "      <td>000989967168210663599_FoilHole_12383667_Data_1...</td>\n",
       "      <td>294.0</td>\n",
       "      <td>110.0</td>\n",
       "    </tr>\n",
       "    <tr>\n",
       "      <th>1380796</th>\n",
       "      <td>000989967168210663599_FoilHole_12383667_Data_1...</td>\n",
       "      <td>1514.0</td>\n",
       "      <td>97.0</td>\n",
       "    </tr>\n",
       "  </tbody>\n",
       "</table>\n",
       "<p>1380797 rows × 3 columns</p>\n",
       "</div>"
      ],
      "text/plain": [
       "                                            MicrographName CoordinateX  \\\n",
       "0        008479271629128263535_FoilHole_12390118_Data_1...       543.0   \n",
       "1        008479271629128263535_FoilHole_12390118_Data_1...      1166.0   \n",
       "2        008479271629128263535_FoilHole_12390118_Data_1...      1371.0   \n",
       "3        008479271629128263535_FoilHole_12390118_Data_1...      3409.0   \n",
       "4        008479271629128263535_FoilHole_12390118_Data_1...      2124.0   \n",
       "...                                                    ...         ...   \n",
       "1380792  000989967168210663599_FoilHole_12383667_Data_1...      1480.0   \n",
       "1380793  000989967168210663599_FoilHole_12383667_Data_1...       473.0   \n",
       "1380794  000989967168210663599_FoilHole_12383667_Data_1...      1963.0   \n",
       "1380795  000989967168210663599_FoilHole_12383667_Data_1...       294.0   \n",
       "1380796  000989967168210663599_FoilHole_12383667_Data_1...      1514.0   \n",
       "\n",
       "        CoordinateY  \n",
       "0            3977.0  \n",
       "1            3989.0  \n",
       "2            4003.0  \n",
       "3            3975.0  \n",
       "4            3939.0  \n",
       "...             ...  \n",
       "1380792       456.0  \n",
       "1380793       287.0  \n",
       "1380794       172.0  \n",
       "1380795       110.0  \n",
       "1380796        97.0  \n",
       "\n",
       "[1380797 rows x 3 columns]"
      ]
     },
     "execution_count": 10,
     "metadata": {},
     "output_type": "execute_result"
    }
   ],
   "source": [
    "collated_star.to_df()"
   ]
  },
  {
   "cell_type": "code",
   "execution_count": 12,
   "metadata": {},
   "outputs": [],
   "source": [
    "with open(data_folder/star_out, 'w') as f:\n",
    "    f.write(collated_star.to_star())"
   ]
  },
  {
   "cell_type": "code",
   "execution_count": null,
   "metadata": {},
   "outputs": [],
   "source": []
  }
 ],
 "metadata": {
  "interpreter": {
   "hash": "003fc63fc75231966414e17ed2789cc8e150c54ca8218e26a9edc237f43d7a56"
  },
  "kernelspec": {
   "display_name": "Python 3.6.10 64-bit ('cryolo': conda)",
   "name": "python3"
  },
  "language_info": {
   "codemirror_mode": {
    "name": "ipython",
    "version": 3
   },
   "file_extension": ".py",
   "mimetype": "text/x-python",
   "name": "python",
   "nbconvert_exporter": "python",
   "pygments_lexer": "ipython3",
   "version": "3.6.10"
  },
  "orig_nbformat": 2
 },
 "nbformat": 4,
 "nbformat_minor": 2
}
