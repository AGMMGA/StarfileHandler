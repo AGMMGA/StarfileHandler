{
 "cells": [
  {
   "cell_type": "code",
   "execution_count": 2,
   "metadata": {},
   "outputs": [],
   "source": [
    "#allow autoreload modules at every execution if requested\n",
    "%load_ext autoreload\n",
    "\n",
    "from pathlib import Path\n",
    "from pprint import pprint\n",
    "\n",
    "import numpy as np\n",
    "import pandas as pd\n",
    "\n",
    "from cs_parser import CsParser, mappings\n",
    "from star_parser import StarTabDf, StarParser"
   ]
  },
  {
   "cell_type": "code",
   "execution_count": 5,
   "metadata": {},
   "outputs": [],
   "source": [
    "work_folder = Path('/mnt/DATA/andrea/apoferritin')\n",
    "particles_metadata_file = work_folder/\"cryosparc_P105_J28_010_particles.cs\"\n",
    "assert particles_metadata_file.exists()\n",
    "parser = CsParser(particles_metadata_file)\n",
    "dirty_array = parser.parse_array()"
   ]
  },
  {
   "cell_type": "code",
   "execution_count": 43,
   "metadata": {},
   "outputs": [],
   "source": [
    "a = dirty_array.cs_array\n",
    "dtypes = a.dtype.fields\n",
    "#pandas does not like to have 2D / 3D arrays as column elements. \n",
    "#we separate standard columns (clean) from the multidimensional data (problematic)\n",
    "problematic = []\n",
    "clean = []\n",
    "for index, value in enumerate(list(a[0])):\n",
    "    if isinstance(value, np.ndarray):\n",
    "        key = list(dtypes.keys())[index]\n",
    "        problematic.append(key)\n",
    "    else:\n",
    "        key = list(dtypes.keys())[index]\n",
    "        clean.append(key)\n",
    "index = np.arange(dirty_array.cs_array.shape[0])\n",
    "flat = pd.DataFrame(dirty_array.cs_array[clean])\n",
    "# get rid of some b''\n",
    "for key in ['blob/path', 'ctf/type']:\n",
    "    try:\n",
    "        flat[key] = flat[key].map(lambda x: x.decode('utf-8'))\n",
    "    except KeyError:\n",
    "        continue\n",
    "\n"
   ]
  },
  {
   "cell_type": "markdown",
   "metadata": {},
   "source": [
    "Note: Cryospar internal formats are not well documented, however:\n",
    "\n",
    "1 - blob/path indicates the path of the 3D mrc stack\n",
    "2 - blob/idx is the z index of the given particle image in the stack\n",
    "\n",
    "angles are in radians\n",
    "shifts are in Angstrom (A), not pixels; blob/psize_A contains the pixel size in A to convert to pixel shifts if necessary\n",
    "\n",
    "Angle conventions are unclear, but they might be in Rodrigues coordinates.\n",
    "\n",
    "There is a script that converts cryosparc data (.cs) to relion (.star). (/soft/pyem/pyem/csparc2star.py)\n",
    "It often fails with KeyError, hence I wrote my own...\n",
    "however, when converting angles from cs to relion, it does the following :\n",
    "\n",
    "(/soft/pyem/pyem/pyem/metadata.py, line 481)\n",
    "\n",
    "log.debug(\"Converting Rodrigues coordinates to Euler angles\")\n",
    "df[star.Relion.ANGLES] = np.rad2deg(geom.rot2euler(geom.expmap(df[star.Relion.ANGLES].values)))\n",
    "\n",
    "Follow the pyem code for more info on conventions? \n",
    "\n",
    "More info on cs files and csg files:\n",
    "https://guide.cryosparc.com/processing-data/tutorials-and-case-studies/manipulating-.cs-files-created-by-cryosparc\n",
    "https://guide.cryosparc.com/processing-data/tutorials-and-case-studies/tutorial-data-management-in-cryosparc#use-case-manually-modify-cryosparc-outputs-and-metadata-for-continued-experimentation\n",
    "\n",
    "\n",
    "The cryosparc discussion forum is also quite helpful, they might be able to answer your questions.\n"
   ]
  },
  {
   "cell_type": "code",
   "execution_count": 44,
   "metadata": {},
   "outputs": [],
   "source": [
    "#we unpack each 3D array into single columns to be added back to our metadata\n",
    "#we arbitrarily rename columns by adding their index to their name, i.e. anisomag_0, anisomag_1, etc.\n",
    "#what is what, though, is left as an exercise for the reader ;-)\n",
    "rascals = a[problematic]\n",
    "index_column = flat.index\n",
    "reformed = pd.DataFrame(index_column)\n",
    "for key in problematic:\n",
    "    #if the name of the column is poses, they are angles;\n",
    "    #otherwise they are shifts\n",
    "    if 'pose' in key:\n",
    "        mapping = mapping_angles\n",
    "    else:\n",
    "        mapping = mapping_coords\n",
    "    #split the array into a list of n single columns\n",
    "    split_arrays = np.hsplit(rascals[key], rascals[key].shape[-1])\n",
    "    #rename their index\n",
    "    for index, array in enumerate(split_arrays):\n",
    "        new_dtype = (f'{key}_{index}')\n",
    "        reformed[new_dtype] = pd.DataFrame(array)"
   ]
  },
  {
   "cell_type": "code",
   "execution_count": 47,
   "metadata": {},
   "outputs": [
    {
     "name": "stdout",
     "output_type": "stream",
     "text": [
      "uid <class 'numpy.uint64'>\n",
      "blob/path <class 'str'>\n",
      "blob/idx <class 'numpy.uint32'>\n",
      "blob/psize_A <class 'numpy.float32'>\n",
      "blob/sign <class 'numpy.float32'>\n",
      "blob/import_sig <class 'numpy.uint64'>\n",
      "ctf/type <class 'str'>\n",
      "ctf/exp_group_id <class 'numpy.uint32'>\n",
      "ctf/accel_kv <class 'numpy.float32'>\n",
      "ctf/cs_mm <class 'numpy.float32'>\n",
      "ctf/amp_contrast <class 'numpy.float32'>\n",
      "ctf/df1_A <class 'numpy.float32'>\n",
      "ctf/df2_A <class 'numpy.float32'>\n",
      "ctf/df_angle_rad <class 'numpy.float32'>\n",
      "ctf/phase_shift_rad <class 'numpy.float32'>\n",
      "ctf/scale <class 'numpy.float32'>\n",
      "ctf/scale_const <class 'numpy.float32'>\n",
      "ctf/bfactor <class 'numpy.float32'>\n",
      "alignments3D/split <class 'numpy.uint32'>\n",
      "alignments3D/psize_A <class 'numpy.float32'>\n",
      "alignments3D/error <class 'numpy.float32'>\n",
      "alignments3D/error_min <class 'numpy.float32'>\n",
      "alignments3D/resid_pow <class 'numpy.float32'>\n",
      "alignments3D/slice_pow <class 'numpy.float32'>\n",
      "alignments3D/image_pow <class 'numpy.float32'>\n",
      "alignments3D/cross_cor <class 'numpy.float32'>\n",
      "alignments3D/alpha <class 'numpy.float32'>\n",
      "alignments3D/alpha_min <class 'numpy.float32'>\n",
      "alignments3D/weight <class 'numpy.float32'>\n",
      "alignments3D/pose_ess <class 'numpy.float32'>\n",
      "alignments3D/shift_ess <class 'numpy.float32'>\n",
      "alignments3D/class_posterior <class 'numpy.float32'>\n",
      "alignments3D/class <class 'numpy.uint32'>\n",
      "alignments3D/class_ess <class 'numpy.float32'>\n",
      "0 <class 'numpy.int64'>\n",
      "blob/shape_0 <class 'numpy.uint32'>\n",
      "blob/shape_1 <class 'numpy.uint32'>\n",
      "ctf/shift_A_0 <class 'numpy.float32'>\n",
      "ctf/shift_A_1 <class 'numpy.float32'>\n",
      "ctf/tilt_A_0 <class 'numpy.float32'>\n",
      "ctf/tilt_A_1 <class 'numpy.float32'>\n",
      "ctf/trefoil_A_0 <class 'numpy.float32'>\n",
      "ctf/trefoil_A_1 <class 'numpy.float32'>\n",
      "ctf/tetra_A_0 <class 'numpy.float32'>\n",
      "ctf/tetra_A_1 <class 'numpy.float32'>\n",
      "ctf/tetra_A_2 <class 'numpy.float32'>\n",
      "ctf/tetra_A_3 <class 'numpy.float32'>\n",
      "ctf/anisomag_0 <class 'numpy.float32'>\n",
      "ctf/anisomag_1 <class 'numpy.float32'>\n",
      "ctf/anisomag_2 <class 'numpy.float32'>\n",
      "ctf/anisomag_3 <class 'numpy.float32'>\n",
      "alignments3D/shift_0 <class 'numpy.float32'>\n",
      "alignments3D/shift_1 <class 'numpy.float32'>\n",
      "alignments3D/pose_0 <class 'numpy.float32'>\n",
      "alignments3D/pose_1 <class 'numpy.float32'>\n",
      "alignments3D/pose_2 <class 'numpy.float32'>\n"
     ]
    }
   ],
   "source": [
    "for i,c in enumerate(megablob.iloc[0,:]):\n",
    "    print(megablob.columns[i],type(c))\n",
    "    # print(f\"{megablob.columns[i]} is {type(i)}\")"
   ]
  },
  {
   "cell_type": "code",
   "execution_count": null,
   "metadata": {},
   "outputs": [],
   "source": []
  }
 ],
 "metadata": {
  "interpreter": {
   "hash": "6f968289293630ebd2ac7aad47f58f0fb458534ba97e3ee64d2b97a797be8954"
  },
  "kernelspec": {
   "display_name": "Python 3.9.7 64-bit ('starfile': conda)",
   "name": "python3"
  },
  "language_info": {
   "codemirror_mode": {
    "name": "ipython",
    "version": 3
   },
   "file_extension": ".py",
   "mimetype": "text/x-python",
   "name": "python",
   "nbconvert_exporter": "python",
   "pygments_lexer": "ipython3",
   "version": "3.9.7"
  },
  "orig_nbformat": 4
 },
 "nbformat": 4,
 "nbformat_minor": 2
}
