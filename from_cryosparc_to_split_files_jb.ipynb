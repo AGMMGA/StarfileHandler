{
 "metadata": {
  "language_info": {
   "codemirror_mode": {
    "name": "ipython",
    "version": 3
   },
   "file_extension": ".py",
   "mimetype": "text/x-python",
   "name": "python",
   "nbconvert_exporter": "python",
   "pygments_lexer": "ipython3",
   "version": "3.6.10"
  },
  "orig_nbformat": 2,
  "kernelspec": {
   "name": "python3",
   "display_name": "Python 3.6.10 64-bit ('cryolo': conda)"
  },
  "interpreter": {
   "hash": "003fc63fc75231966414e17ed2789cc8e150c54ca8218e26a9edc237f43d7a56"
  }
 },
 "nbformat": 4,
 "nbformat_minor": 2,
 "cells": [
  {
   "cell_type": "code",
   "execution_count": 3,
   "source": [
    "import pandas as pd\n",
    "\n",
    "from pathlib import Path\n",
    "\n",
    "from star_parser import StarParser, StarTabDf"
   ],
   "outputs": [],
   "metadata": {}
  },
  {
   "cell_type": "code",
   "execution_count": 4,
   "source": [
    "work_folder = Path(r\"/mnt/DATA/jitske/JB_20210825_FT040_NeCeN/csparc2relion\")\n",
    "star_in=work_folder/\"P101_J25_passthrough_particles_class_3.star\"\n",
    "star_in.exists()"
   ],
   "outputs": [
    {
     "output_type": "execute_result",
     "data": {
      "text/plain": [
       "True"
      ]
     },
     "metadata": {},
     "execution_count": 4
    }
   ],
   "metadata": {}
  },
  {
   "cell_type": "code",
   "execution_count": 5,
   "source": [
    "parser = StarParser(star_in)\n",
    "data = parser.parse()"
   ],
   "outputs": [],
   "metadata": {}
  },
  {
   "cell_type": "code",
   "execution_count": 6,
   "source": [
    "ptcls = data[\"data_particles\"]\n",
    "ptcls.keep_only_columns(['MicrographName','CoordinateX','CoordinateY'], store=True)"
   ],
   "outputs": [
    {
     "output_type": "execute_result",
     "data": {
      "text/html": [
       "<div>\n",
       "<style scoped>\n",
       "    .dataframe tbody tr th:only-of-type {\n",
       "        vertical-align: middle;\n",
       "    }\n",
       "\n",
       "    .dataframe tbody tr th {\n",
       "        vertical-align: top;\n",
       "    }\n",
       "\n",
       "    .dataframe thead th {\n",
       "        text-align: right;\n",
       "    }\n",
       "</style>\n",
       "<table border=\"1\" class=\"dataframe\">\n",
       "  <thead>\n",
       "    <tr style=\"text-align: right;\">\n",
       "      <th></th>\n",
       "      <th>MicrographName</th>\n",
       "      <th>CoordinateX</th>\n",
       "      <th>CoordinateY</th>\n",
       "    </tr>\n",
       "  </thead>\n",
       "  <tbody>\n",
       "    <tr>\n",
       "      <th>0</th>\n",
       "      <td>J4/motioncorrected/000002540963201941247_FoilH...</td>\n",
       "      <td>1818</td>\n",
       "      <td>1282</td>\n",
       "    </tr>\n",
       "    <tr>\n",
       "      <th>1</th>\n",
       "      <td>J4/motioncorrected/000002540963201941247_FoilH...</td>\n",
       "      <td>1693</td>\n",
       "      <td>2177</td>\n",
       "    </tr>\n",
       "    <tr>\n",
       "      <th>2</th>\n",
       "      <td>J2/motioncorrected/000002824280520818298_FoilH...</td>\n",
       "      <td>4509</td>\n",
       "      <td>2776</td>\n",
       "    </tr>\n",
       "    <tr>\n",
       "      <th>3</th>\n",
       "      <td>J2/motioncorrected/000002824280520818298_FoilH...</td>\n",
       "      <td>4729</td>\n",
       "      <td>2706</td>\n",
       "    </tr>\n",
       "    <tr>\n",
       "      <th>4</th>\n",
       "      <td>J2/motioncorrected/000002824280520818298_FoilH...</td>\n",
       "      <td>4802</td>\n",
       "      <td>2683</td>\n",
       "    </tr>\n",
       "    <tr>\n",
       "      <th>...</th>\n",
       "      <td>...</td>\n",
       "      <td>...</td>\n",
       "      <td>...</td>\n",
       "    </tr>\n",
       "    <tr>\n",
       "      <th>158648</th>\n",
       "      <td>J4/motioncorrected/018444056777400416150_FoilH...</td>\n",
       "      <td>4557</td>\n",
       "      <td>3152</td>\n",
       "    </tr>\n",
       "    <tr>\n",
       "      <th>158649</th>\n",
       "      <td>J4/motioncorrected/018444056777400416150_FoilH...</td>\n",
       "      <td>4579</td>\n",
       "      <td>3224</td>\n",
       "    </tr>\n",
       "    <tr>\n",
       "      <th>158650</th>\n",
       "      <td>J4/motioncorrected/018445943398413746503_FoilH...</td>\n",
       "      <td>5147</td>\n",
       "      <td>1978</td>\n",
       "    </tr>\n",
       "    <tr>\n",
       "      <th>158651</th>\n",
       "      <td>J4/motioncorrected/018445943398413746503_FoilH...</td>\n",
       "      <td>5193</td>\n",
       "      <td>1916</td>\n",
       "    </tr>\n",
       "    <tr>\n",
       "      <th>158652</th>\n",
       "      <td>J4/motioncorrected/018445943398413746503_FoilH...</td>\n",
       "      <td>5239</td>\n",
       "      <td>1854</td>\n",
       "    </tr>\n",
       "  </tbody>\n",
       "</table>\n",
       "<p>158653 rows × 3 columns</p>\n",
       "</div>"
      ],
      "text/plain": [
       "                                           MicrographName CoordinateX  \\\n",
       "0       J4/motioncorrected/000002540963201941247_FoilH...        1818   \n",
       "1       J4/motioncorrected/000002540963201941247_FoilH...        1693   \n",
       "2       J2/motioncorrected/000002824280520818298_FoilH...        4509   \n",
       "3       J2/motioncorrected/000002824280520818298_FoilH...        4729   \n",
       "4       J2/motioncorrected/000002824280520818298_FoilH...        4802   \n",
       "...                                                   ...         ...   \n",
       "158648  J4/motioncorrected/018444056777400416150_FoilH...        4557   \n",
       "158649  J4/motioncorrected/018444056777400416150_FoilH...        4579   \n",
       "158650  J4/motioncorrected/018445943398413746503_FoilH...        5147   \n",
       "158651  J4/motioncorrected/018445943398413746503_FoilH...        5193   \n",
       "158652  J4/motioncorrected/018445943398413746503_FoilH...        5239   \n",
       "\n",
       "       CoordinateY  \n",
       "0             1282  \n",
       "1             2177  \n",
       "2             2776  \n",
       "3             2706  \n",
       "4             2683  \n",
       "...            ...  \n",
       "158648        3152  \n",
       "158649        3224  \n",
       "158650        1978  \n",
       "158651        1916  \n",
       "158652        1854  \n",
       "\n",
       "[158653 rows x 3 columns]"
      ]
     },
     "metadata": {},
     "execution_count": 6
    }
   ],
   "metadata": {}
  },
  {
   "cell_type": "code",
   "execution_count": 7,
   "source": [
    "prefix = \"J2/motioncorrected/\"\n",
    "ptcls.remove_prefix_from_column(prefix, 'MicrographName', store=True)\n",
    "prefix = \"J4/motioncorrected/\"\n",
    "ptcls.remove_prefix_from_column(prefix, 'MicrographName', store=True)\n"
   ],
   "outputs": [
    {
     "output_type": "execute_result",
     "data": {
      "text/html": [
       "<div>\n",
       "<style scoped>\n",
       "    .dataframe tbody tr th:only-of-type {\n",
       "        vertical-align: middle;\n",
       "    }\n",
       "\n",
       "    .dataframe tbody tr th {\n",
       "        vertical-align: top;\n",
       "    }\n",
       "\n",
       "    .dataframe thead th {\n",
       "        text-align: right;\n",
       "    }\n",
       "</style>\n",
       "<table border=\"1\" class=\"dataframe\">\n",
       "  <thead>\n",
       "    <tr style=\"text-align: right;\">\n",
       "      <th></th>\n",
       "      <th>MicrographName</th>\n",
       "      <th>CoordinateX</th>\n",
       "      <th>CoordinateY</th>\n",
       "    </tr>\n",
       "  </thead>\n",
       "  <tbody>\n",
       "    <tr>\n",
       "      <th>0</th>\n",
       "      <td>000002540963201941247_FoilHole_26599004_Data_2...</td>\n",
       "      <td>1818</td>\n",
       "      <td>1282</td>\n",
       "    </tr>\n",
       "    <tr>\n",
       "      <th>1</th>\n",
       "      <td>000002540963201941247_FoilHole_26599004_Data_2...</td>\n",
       "      <td>1693</td>\n",
       "      <td>2177</td>\n",
       "    </tr>\n",
       "    <tr>\n",
       "      <th>2</th>\n",
       "      <td>000002824280520818298_FoilHole_25541376_Data_2...</td>\n",
       "      <td>4509</td>\n",
       "      <td>2776</td>\n",
       "    </tr>\n",
       "    <tr>\n",
       "      <th>3</th>\n",
       "      <td>000002824280520818298_FoilHole_25541376_Data_2...</td>\n",
       "      <td>4729</td>\n",
       "      <td>2706</td>\n",
       "    </tr>\n",
       "    <tr>\n",
       "      <th>4</th>\n",
       "      <td>000002824280520818298_FoilHole_25541376_Data_2...</td>\n",
       "      <td>4802</td>\n",
       "      <td>2683</td>\n",
       "    </tr>\n",
       "    <tr>\n",
       "      <th>...</th>\n",
       "      <td>...</td>\n",
       "      <td>...</td>\n",
       "      <td>...</td>\n",
       "    </tr>\n",
       "    <tr>\n",
       "      <th>158648</th>\n",
       "      <td>018444056777400416150_FoilHole_26605017_Data_2...</td>\n",
       "      <td>4557</td>\n",
       "      <td>3152</td>\n",
       "    </tr>\n",
       "    <tr>\n",
       "      <th>158649</th>\n",
       "      <td>018444056777400416150_FoilHole_26605017_Data_2...</td>\n",
       "      <td>4579</td>\n",
       "      <td>3224</td>\n",
       "    </tr>\n",
       "    <tr>\n",
       "      <th>158650</th>\n",
       "      <td>018445943398413746503_FoilHole_26601548_Data_2...</td>\n",
       "      <td>5147</td>\n",
       "      <td>1978</td>\n",
       "    </tr>\n",
       "    <tr>\n",
       "      <th>158651</th>\n",
       "      <td>018445943398413746503_FoilHole_26601548_Data_2...</td>\n",
       "      <td>5193</td>\n",
       "      <td>1916</td>\n",
       "    </tr>\n",
       "    <tr>\n",
       "      <th>158652</th>\n",
       "      <td>018445943398413746503_FoilHole_26601548_Data_2...</td>\n",
       "      <td>5239</td>\n",
       "      <td>1854</td>\n",
       "    </tr>\n",
       "  </tbody>\n",
       "</table>\n",
       "<p>158653 rows × 3 columns</p>\n",
       "</div>"
      ],
      "text/plain": [
       "                                           MicrographName CoordinateX  \\\n",
       "0       000002540963201941247_FoilHole_26599004_Data_2...        1818   \n",
       "1       000002540963201941247_FoilHole_26599004_Data_2...        1693   \n",
       "2       000002824280520818298_FoilHole_25541376_Data_2...        4509   \n",
       "3       000002824280520818298_FoilHole_25541376_Data_2...        4729   \n",
       "4       000002824280520818298_FoilHole_25541376_Data_2...        4802   \n",
       "...                                                   ...         ...   \n",
       "158648  018444056777400416150_FoilHole_26605017_Data_2...        4557   \n",
       "158649  018444056777400416150_FoilHole_26605017_Data_2...        4579   \n",
       "158650  018445943398413746503_FoilHole_26601548_Data_2...        5147   \n",
       "158651  018445943398413746503_FoilHole_26601548_Data_2...        5193   \n",
       "158652  018445943398413746503_FoilHole_26601548_Data_2...        5239   \n",
       "\n",
       "       CoordinateY  \n",
       "0             1282  \n",
       "1             2177  \n",
       "2             2776  \n",
       "3             2706  \n",
       "4             2683  \n",
       "...            ...  \n",
       "158648        3152  \n",
       "158649        3224  \n",
       "158650        1978  \n",
       "158651        1916  \n",
       "158652        1854  \n",
       "\n",
       "[158653 rows x 3 columns]"
      ]
     },
     "metadata": {},
     "execution_count": 7
    }
   ],
   "metadata": {}
  },
  {
   "cell_type": "code",
   "execution_count": 8,
   "source": [
    "ptcls.trim_column_values('MicrographName', start=len('018446072967243533592_'), store=True)\n"
   ],
   "outputs": [
    {
     "output_type": "execute_result",
     "data": {
      "text/html": [
       "<div>\n",
       "<style scoped>\n",
       "    .dataframe tbody tr th:only-of-type {\n",
       "        vertical-align: middle;\n",
       "    }\n",
       "\n",
       "    .dataframe tbody tr th {\n",
       "        vertical-align: top;\n",
       "    }\n",
       "\n",
       "    .dataframe thead th {\n",
       "        text-align: right;\n",
       "    }\n",
       "</style>\n",
       "<table border=\"1\" class=\"dataframe\">\n",
       "  <thead>\n",
       "    <tr style=\"text-align: right;\">\n",
       "      <th></th>\n",
       "      <th>MicrographName</th>\n",
       "      <th>CoordinateX</th>\n",
       "      <th>CoordinateY</th>\n",
       "    </tr>\n",
       "  </thead>\n",
       "  <tbody>\n",
       "    <tr>\n",
       "      <th>0</th>\n",
       "      <td>FoilHole_26599004_Data_26598154_26598156_20210...</td>\n",
       "      <td>1818</td>\n",
       "      <td>1282</td>\n",
       "    </tr>\n",
       "    <tr>\n",
       "      <th>1</th>\n",
       "      <td>FoilHole_26599004_Data_26598154_26598156_20210...</td>\n",
       "      <td>1693</td>\n",
       "      <td>2177</td>\n",
       "    </tr>\n",
       "    <tr>\n",
       "      <th>2</th>\n",
       "      <td>FoilHole_25541376_Data_25535916_25535918_20210...</td>\n",
       "      <td>4509</td>\n",
       "      <td>2776</td>\n",
       "    </tr>\n",
       "    <tr>\n",
       "      <th>3</th>\n",
       "      <td>FoilHole_25541376_Data_25535916_25535918_20210...</td>\n",
       "      <td>4729</td>\n",
       "      <td>2706</td>\n",
       "    </tr>\n",
       "    <tr>\n",
       "      <th>4</th>\n",
       "      <td>FoilHole_25541376_Data_25535916_25535918_20210...</td>\n",
       "      <td>4802</td>\n",
       "      <td>2683</td>\n",
       "    </tr>\n",
       "    <tr>\n",
       "      <th>...</th>\n",
       "      <td>...</td>\n",
       "      <td>...</td>\n",
       "      <td>...</td>\n",
       "    </tr>\n",
       "    <tr>\n",
       "      <th>158648</th>\n",
       "      <td>FoilHole_26605017_Data_26598157_26598159_20210...</td>\n",
       "      <td>4557</td>\n",
       "      <td>3152</td>\n",
       "    </tr>\n",
       "    <tr>\n",
       "      <th>158649</th>\n",
       "      <td>FoilHole_26605017_Data_26598157_26598159_20210...</td>\n",
       "      <td>4579</td>\n",
       "      <td>3224</td>\n",
       "    </tr>\n",
       "    <tr>\n",
       "      <th>158650</th>\n",
       "      <td>FoilHole_26601548_Data_26598157_26598159_20210...</td>\n",
       "      <td>5147</td>\n",
       "      <td>1978</td>\n",
       "    </tr>\n",
       "    <tr>\n",
       "      <th>158651</th>\n",
       "      <td>FoilHole_26601548_Data_26598157_26598159_20210...</td>\n",
       "      <td>5193</td>\n",
       "      <td>1916</td>\n",
       "    </tr>\n",
       "    <tr>\n",
       "      <th>158652</th>\n",
       "      <td>FoilHole_26601548_Data_26598157_26598159_20210...</td>\n",
       "      <td>5239</td>\n",
       "      <td>1854</td>\n",
       "    </tr>\n",
       "  </tbody>\n",
       "</table>\n",
       "<p>158653 rows × 3 columns</p>\n",
       "</div>"
      ],
      "text/plain": [
       "                                           MicrographName CoordinateX  \\\n",
       "0       FoilHole_26599004_Data_26598154_26598156_20210...        1818   \n",
       "1       FoilHole_26599004_Data_26598154_26598156_20210...        1693   \n",
       "2       FoilHole_25541376_Data_25535916_25535918_20210...        4509   \n",
       "3       FoilHole_25541376_Data_25535916_25535918_20210...        4729   \n",
       "4       FoilHole_25541376_Data_25535916_25535918_20210...        4802   \n",
       "...                                                   ...         ...   \n",
       "158648  FoilHole_26605017_Data_26598157_26598159_20210...        4557   \n",
       "158649  FoilHole_26605017_Data_26598157_26598159_20210...        4579   \n",
       "158650  FoilHole_26601548_Data_26598157_26598159_20210...        5147   \n",
       "158651  FoilHole_26601548_Data_26598157_26598159_20210...        5193   \n",
       "158652  FoilHole_26601548_Data_26598157_26598159_20210...        5239   \n",
       "\n",
       "       CoordinateY  \n",
       "0             1282  \n",
       "1             2177  \n",
       "2             2776  \n",
       "3             2706  \n",
       "4             2683  \n",
       "...            ...  \n",
       "158648        3152  \n",
       "158649        3224  \n",
       "158650        1978  \n",
       "158651        1916  \n",
       "158652        1854  \n",
       "\n",
       "[158653 rows x 3 columns]"
      ]
     },
     "metadata": {},
     "execution_count": 8
    }
   ],
   "metadata": {}
  },
  {
   "cell_type": "code",
   "execution_count": 9,
   "source": [
    "[p for p in ptcls.to_df()['MicrographName'] if not p.startswith('FoilHole')]"
   ],
   "outputs": [
    {
     "output_type": "execute_result",
     "data": {
      "text/plain": [
       "[]"
      ]
     },
     "metadata": {},
     "execution_count": 9
    }
   ],
   "metadata": {}
  },
  {
   "cell_type": "code",
   "execution_count": 10,
   "source": [
    "ptcls.remove_prefix_from_column('_patch_aligned_doseweighted', 'MicrographName', store=True)\n",
    "ptcls.to_df()['MicrographName'][0]"
   ],
   "outputs": [
    {
     "output_type": "execute_result",
     "data": {
      "text/plain": [
       "'FoilHole_26599004_Data_26598154_26598156_20210826_125510_fractions.mrc'"
      ]
     },
     "metadata": {},
     "execution_count": 10
    }
   ],
   "metadata": {}
  },
  {
   "cell_type": "code",
   "execution_count": 11,
   "source": [
    "# y = list(ptcls.to_df()['CoordinateY'])\n",
    "# df = pd.DataFrame({'CoordinateY': [int(i)*2 for i in y]}, dtype=str)\n",
    "# ptcls.remove_columns(['CoordinateY'], store=True)\n",
    "# ptcls.add_columns(df,store=True)\n"
   ],
   "outputs": [],
   "metadata": {}
  },
  {
   "cell_type": "code",
   "execution_count": 12,
   "source": [
    "# x = list(ptcls.to_df()['CoordinateX'])\n",
    "# df = pd.DataFrame({'CoordinateX': [int(i)*2 for i in x]}, dtype=str)\n",
    "# ptcls.remove_columns(['CoordinateX'], store=True)\n",
    "# ptcls.add_columns(df, store=True)\n",
    "\n"
   ],
   "outputs": [],
   "metadata": {}
  },
  {
   "cell_type": "code",
   "execution_count": 13,
   "source": [
    "ptcls.to_df()['CoordinateY'].min()"
   ],
   "outputs": [
    {
     "output_type": "execute_result",
     "data": {
      "text/plain": [
       "'1000'"
      ]
     },
     "metadata": {},
     "execution_count": 13
    }
   ],
   "metadata": {}
  },
  {
   "cell_type": "code",
   "execution_count": 14,
   "source": [
    "split = ptcls.to_df().groupby('MicrographName')\n",
    "split_dir = work_folder/'clean_starfiles_cl3'\n",
    "if not split_dir.exists():\n",
    "    split_dir.mkdir()\n",
    "for fname, data in split:\n",
    "    x = StarTabDf(data)\n",
    "    fname = fname.replace('.mrc','.star')\n",
    "    with open(split_dir/fname, 'w') as f:\n",
    "        f.write(x.to_star())\n"
   ],
   "outputs": [],
   "metadata": {}
  },
  {
   "cell_type": "code",
   "execution_count": null,
   "source": [],
   "outputs": [],
   "metadata": {}
  }
 ]
}