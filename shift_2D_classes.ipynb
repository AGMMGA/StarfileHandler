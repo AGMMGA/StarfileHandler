{
 "cells": [
  {
   "cell_type": "code",
   "execution_count": 1,
   "metadata": {},
   "outputs": [],
   "source": [
    "import math\n",
    "import os\n",
    "\n",
    "from pathlib import Path\n",
    "\n",
    "import numpy as np\n",
    "import pandas as pd\n",
    "\n",
    "from star_parser import StarParser, StarTabDf\n"
   ]
  },
  {
   "cell_type": "code",
   "execution_count": 2,
   "metadata": {
    "tags": []
   },
   "outputs": [
    {
     "data": {
      "text/plain": [
       "PosixPath('/mnt/home/a.murachelli/workspace/StarfileHandler/static/2dshift/job140_particles_shifted.star')"
      ]
     },
     "execution_count": 2,
     "metadata": {},
     "output_type": "execute_result"
    }
   ],
   "source": [
    "data_folder = Path(r\"/mnt/home/a.murachelli/workspace/StarfileHandler/static/2dshift\")\n",
    "assert data_folder.exists()\n",
    "star_in = data_folder / \"job140_particles.star\"\n",
    "assert star_in.exists()\n",
    "star_out = data_folder / f\"job140_particles_shifted.star\"\n",
    "star_out\n"
   ]
  },
  {
   "cell_type": "code",
   "execution_count": 3,
   "metadata": {},
   "outputs": [
    {
     "data": {
      "text/plain": [
       "{'data_optics': StarTable data_optics with 10 columns and 1 record(s),\n",
       " 'data_particles': StarTable data_particles with 24 columns and 180889 record(s)}"
      ]
     },
     "execution_count": 3,
     "metadata": {},
     "output_type": "execute_result"
    }
   ],
   "source": [
    "parser = StarParser(star_in)\n",
    "tabs = parser.parse()\n",
    "tabs\n"
   ]
  },
  {
   "cell_type": "code",
   "execution_count": 4,
   "metadata": {},
   "outputs": [],
   "source": [
    "# read pixel size\n",
    "optics = tabs[\"data_optics\"]\n",
    "angpix = float(optics.to_df()[\"ImagePixelSize\"])\n"
   ]
  },
  {
   "cell_type": "code",
   "execution_count": 5,
   "metadata": {},
   "outputs": [
    {
     "data": {
      "text/plain": [
       "{2: (21.779999999999998, 3.3),\n",
       " 12: (-21.779999999999998, 9.239999999999998),\n",
       " 18: (-18.479999999999997, -4.619999999999999),\n",
       " 36: (-25.74, 10.56),\n",
       " 45: (-7.26, 17.82),\n",
       " 49: (33.0, 9.899999999999999)}"
      ]
     },
     "execution_count": 5,
     "metadata": {},
     "output_type": "execute_result"
    }
   ],
   "source": [
    "# choose displacements for each class. Default is 0 (no displacement)\n",
    "# format: <class_number> : (displX, displY)\n",
    "\"\"\"\n",
    "Class2: 6.6+ 1+\n",
    "Class12: 6.6- 2.8+\n",
    "Class18: 5.6- 1.4-\n",
    "Class36: 7.8- 3.2+\n",
    "Class45: 2.2- 5.4+\n",
    "Class49: 10+ 3+\n",
    "\"\"\"\n",
    "pixel_displacements_by_class = {\n",
    "    2: (6.6, 1),\n",
    "    12: (-6.6, 2.8),\n",
    "    18: (-5.6, -1.4),\n",
    "    36: (-7.8, 3.2),\n",
    "    45: (-2.2, 5.4),\n",
    "    49: (10, 3),\n",
    "}\n",
    "angstrom_displacement_by_class = {\n",
    "    key: (value[0] * angpix, value[1] * angpix)\n",
    "    for key, value in pixel_displacements_by_class.items()\n",
    "}\n",
    "angstrom_displacement_by_class\n"
   ]
  },
  {
   "cell_type": "code",
   "execution_count": 6,
   "metadata": {},
   "outputs": [],
   "source": [
    "data = tabs[\"data_particles\"]\n",
    "##new_origin_X = originX + ((displacementX*(-1)*cos(psi*3.141592/180))-(displacementY*sin((psi*3.141592/180)))  \n"
   ]
  },
  {
   "cell_type": "code",
   "execution_count": 7,
   "metadata": {},
   "outputs": [
    {
     "name": "stdout",
     "output_type": "stream",
     "text": [
      "shifting class 2 by (x = 21.779999999999998, y = 3.3) Angstroms\n",
      "shifting class 12 by (x = -21.779999999999998, y = 9.239999999999998) Angstroms\n",
      "shifting class 18 by (x = -18.479999999999997, y = -4.619999999999999) Angstroms\n",
      "shifting class 36 by (x = -25.74, y = 10.56) Angstroms\n",
      "shifting class 45 by (x = -7.26, y = 17.82) Angstroms\n",
      "shifting class 49 by (x = 33.0, y = 9.899999999999999) Angstroms\n"
     ]
    }
   ],
   "source": [
    "df = data.to_df().copy()\n",
    "dispx = 15\n",
    "dispy = 15\n",
    "df[\"OriginXAngst\"] = df[\"OriginXAngst\"].astype(float)\n",
    "df[\"OriginYAngst\"] = df[\"OriginYAngst\"].astype(float)\n",
    "df[\"ClassNumber\"] = df[\"ClassNumber\"].astype(int)\n",
    "# Calculate all Psi related data\n",
    "df[\"AnglePsiDegrees\"] = df[\"AnglePsi\"].astype(float) * math.pi / 180\n",
    "df[\"AnglePsiCos\"] = df[\"AnglePsiDegrees\"].apply(math.cos)\n",
    "df[\"AnglePsiSin\"] = df[\"AnglePsiDegrees\"].apply(math.sin)\n",
    "# set shifts to zero\n",
    "df[\"ShiftOriginXAngst\"] = 0\n",
    "df[\"ShiftOriginYAngst\"] = 0\n",
    "# Calculate shifts only for classes that need it\n",
    "for selected_class, shifts in angstrom_displacement_by_class.items():\n",
    "    dispx, dispy = shifts\n",
    "    print(f\"shifting class {selected_class} by (x = {dispx}, y = {dispy}) Angstroms\")\n",
    "    df[\"ShiftOriginXAngst\"] += np.where(\n",
    "        df[\"ClassNumber\"] == selected_class,\n",
    "        (-dispx * df[\"AnglePsiCos\"]) + (dispy * df[\"AnglePsiSin\"]),\n",
    "        0,\n",
    "    )\n",
    "    df[\"ShiftOriginYAngst\"] += np.where(\n",
    "        df[\"ClassNumber\"] == selected_class,\n",
    "        (dispx * df[\"AnglePsiSin\"]) + (-dispy * df[\"AnglePsiCos\"]),\n",
    "        0,\n",
    "    )\n",
    "# apply shifts\n",
    "df[\"NewOriginXAngst\"] = df[\"OriginXAngst\"] + df[\"ShiftOriginXAngst\"]\n",
    "df[\"NewOriginYAngst\"] = df[\"OriginYAngst\"] + df[\"ShiftOriginYAngst\"]\n"
   ]
  },
  {
   "cell_type": "code",
   "execution_count": 8,
   "metadata": {},
   "outputs": [
    {
     "data": {
      "text/html": [
       "<div>\n",
       "<style scoped>\n",
       "    .dataframe tbody tr th:only-of-type {\n",
       "        vertical-align: middle;\n",
       "    }\n",
       "\n",
       "    .dataframe tbody tr th {\n",
       "        vertical-align: top;\n",
       "    }\n",
       "\n",
       "    .dataframe thead th {\n",
       "        text-align: right;\n",
       "    }\n",
       "</style>\n",
       "<table border=\"1\" class=\"dataframe\">\n",
       "  <thead>\n",
       "    <tr style=\"text-align: right;\">\n",
       "      <th></th>\n",
       "      <th>OriginXAngst</th>\n",
       "      <th>NewOriginXAngst</th>\n",
       "      <th>ClassNumber</th>\n",
       "    </tr>\n",
       "  </thead>\n",
       "  <tbody>\n",
       "    <tr>\n",
       "      <th>131651</th>\n",
       "      <td>-2.021880</td>\n",
       "      <td>16.333877</td>\n",
       "      <td>2</td>\n",
       "    </tr>\n",
       "    <tr>\n",
       "      <th>131652</th>\n",
       "      <td>4.578123</td>\n",
       "      <td>8.837791</td>\n",
       "      <td>2</td>\n",
       "    </tr>\n",
       "    <tr>\n",
       "      <th>131653</th>\n",
       "      <td>1.278123</td>\n",
       "      <td>-15.318777</td>\n",
       "      <td>2</td>\n",
       "    </tr>\n",
       "    <tr>\n",
       "      <th>131654</th>\n",
       "      <td>4.578123</td>\n",
       "      <td>19.060069</td>\n",
       "      <td>2</td>\n",
       "    </tr>\n",
       "    <tr>\n",
       "      <th>131655</th>\n",
       "      <td>-2.021880</td>\n",
       "      <td>-23.613925</td>\n",
       "      <td>2</td>\n",
       "    </tr>\n",
       "    <tr>\n",
       "      <th>...</th>\n",
       "      <td>...</td>\n",
       "      <td>...</td>\n",
       "      <td>...</td>\n",
       "    </tr>\n",
       "    <tr>\n",
       "      <th>153792</th>\n",
       "      <td>4.578123</td>\n",
       "      <td>-12.006706</td>\n",
       "      <td>2</td>\n",
       "    </tr>\n",
       "    <tr>\n",
       "      <th>153793</th>\n",
       "      <td>-5.321880</td>\n",
       "      <td>12.974910</td>\n",
       "      <td>2</td>\n",
       "    </tr>\n",
       "    <tr>\n",
       "      <th>153794</th>\n",
       "      <td>4.578123</td>\n",
       "      <td>-5.228999</td>\n",
       "      <td>2</td>\n",
       "    </tr>\n",
       "    <tr>\n",
       "      <th>153795</th>\n",
       "      <td>-5.321880</td>\n",
       "      <td>-17.607221</td>\n",
       "      <td>2</td>\n",
       "    </tr>\n",
       "    <tr>\n",
       "      <th>153796</th>\n",
       "      <td>-2.021880</td>\n",
       "      <td>-14.196261</td>\n",
       "      <td>2</td>\n",
       "    </tr>\n",
       "  </tbody>\n",
       "</table>\n",
       "<p>22146 rows × 3 columns</p>\n",
       "</div>"
      ],
      "text/plain": [
       "        OriginXAngst  NewOriginXAngst  ClassNumber\n",
       "131651     -2.021880        16.333877            2\n",
       "131652      4.578123         8.837791            2\n",
       "131653      1.278123       -15.318777            2\n",
       "131654      4.578123        19.060069            2\n",
       "131655     -2.021880       -23.613925            2\n",
       "...              ...              ...          ...\n",
       "153792      4.578123       -12.006706            2\n",
       "153793     -5.321880        12.974910            2\n",
       "153794      4.578123        -5.228999            2\n",
       "153795     -5.321880       -17.607221            2\n",
       "153796     -2.021880       -14.196261            2\n",
       "\n",
       "[22146 rows x 3 columns]"
      ]
     },
     "execution_count": 8,
     "metadata": {},
     "output_type": "execute_result"
    }
   ],
   "source": [
    "df[df[\"ClassNumber\"] == 2][[\"OriginXAngst\", \"NewOriginXAngst\", \"ClassNumber\"]]\n",
    "# df[df[\"ClassNumber\"] == 2][[\"OriginXAngst\", \"NewOriginXAngst\", \"ClassNumber\"]]\n",
    "# df[df[\"ClassNumber\"] == 3][[\"OriginXAngst\", \"NewOriginXAngst\", \"ClassNumber\"]]\n",
    "# df[df[\"ClassNumber\"] == 4][[\"OriginXAngst\", \"NewOriginXAngst\", \"ClassNumber\"]]\n"
   ]
  },
  {
   "cell_type": "code",
   "execution_count": 9,
   "metadata": {},
   "outputs": [
    {
     "ename": "AttributeError",
     "evalue": "'StarParser' object has no attribute 'desination'",
     "output_type": "error",
     "traceback": [
      "\u001b[0;31m---------------------------------------------------------------------------\u001b[0m",
      "\u001b[0;31mAttributeError\u001b[0m                            Traceback (most recent call last)",
      "\u001b[0;32m/tmp/ipykernel_94872/4175021494.py\u001b[0m in \u001b[0;36m<module>\u001b[0;34m\u001b[0m\n\u001b[0;32m----> 1\u001b[0;31m \u001b[0mparser\u001b[0m\u001b[0;34m.\u001b[0m\u001b[0mwrite_out\u001b[0m\u001b[0;34m(\u001b[0m\u001b[0mto_file\u001b[0m\u001b[0;34m=\u001b[0m\u001b[0;32mTrue\u001b[0m\u001b[0;34m,\u001b[0m \u001b[0mnew_file\u001b[0m\u001b[0;34m=\u001b[0m\u001b[0mstar_out\u001b[0m\u001b[0;34m)\u001b[0m\u001b[0;34m\u001b[0m\u001b[0;34m\u001b[0m\u001b[0m\n\u001b[0m",
      "\u001b[0;32m~/workspace/StarfileHandler/star_parser.py\u001b[0m in \u001b[0;36mwrite_out\u001b[0;34m(self, tabs, to_file, new_file)\u001b[0m\n\u001b[1;32m    104\u001b[0m                 \u001b[0mdestination\u001b[0m \u001b[0;34m=\u001b[0m \u001b[0mself\u001b[0m\u001b[0;34m.\u001b[0m\u001b[0mfile_name\u001b[0m\u001b[0;34m\u001b[0m\u001b[0;34m\u001b[0m\u001b[0m\n\u001b[1;32m    105\u001b[0m             \u001b[0mdestination\u001b[0m\u001b[0;34m.\u001b[0m\u001b[0mwrite_text\u001b[0m\u001b[0;34m(\u001b[0m\u001b[0;34m\"\\n\"\u001b[0m\u001b[0;34m.\u001b[0m\u001b[0mjoin\u001b[0m\u001b[0;34m(\u001b[0m\u001b[0mstar\u001b[0m\u001b[0;34m)\u001b[0m\u001b[0;34m)\u001b[0m\u001b[0;34m\u001b[0m\u001b[0;34m\u001b[0m\u001b[0m\n\u001b[0;32m--> 106\u001b[0;31m             \u001b[0mprint\u001b[0m\u001b[0;34m(\u001b[0m\u001b[0;34mf\"Data written to {self.desination}\"\u001b[0m\u001b[0;34m)\u001b[0m\u001b[0;34m\u001b[0m\u001b[0;34m\u001b[0m\u001b[0m\n\u001b[0m\u001b[1;32m    107\u001b[0m \u001b[0;34m\u001b[0m\u001b[0m\n\u001b[1;32m    108\u001b[0m     \u001b[0;32mdef\u001b[0m \u001b[0mread_df\u001b[0m\u001b[0;34m(\u001b[0m\u001b[0mself\u001b[0m\u001b[0;34m,\u001b[0m \u001b[0mdf\u001b[0m\u001b[0;34m)\u001b[0m\u001b[0;34m:\u001b[0m\u001b[0;34m\u001b[0m\u001b[0;34m\u001b[0m\u001b[0m\n",
      "\u001b[0;31mAttributeError\u001b[0m: 'StarParser' object has no attribute 'desination'"
     ]
    }
   ],
   "source": [
    "parser.write_out(to_file=True, new_file=star_out)"
   ]
  },
  {
   "cell_type": "code",
   "execution_count": null,
   "metadata": {},
   "outputs": [],
   "source": []
  }
 ],
 "metadata": {
  "interpreter": {
   "hash": "003fc63fc75231966414e17ed2789cc8e150c54ca8218e26a9edc237f43d7a56"
  },
  "kernelspec": {
   "display_name": "Python 3.6.10 64-bit ('cryolo': conda)",
   "name": "python3"
  },
  "language_info": {
   "codemirror_mode": {
    "name": "ipython",
    "version": 3
   },
   "file_extension": ".py",
   "mimetype": "text/x-python",
   "name": "python",
   "nbconvert_exporter": "python",
   "pygments_lexer": "ipython3",
   "version": "3.9.7"
  },
  "orig_nbformat": 2
 },
 "nbformat": 4,
 "nbformat_minor": 2
}
