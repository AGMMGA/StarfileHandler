{
 "metadata": {
  "language_info": {
   "codemirror_mode": {
    "name": "ipython",
    "version": 3
   },
   "file_extension": ".py",
   "mimetype": "text/x-python",
   "name": "python",
   "nbconvert_exporter": "python",
   "pygments_lexer": "ipython3",
   "version": "3.8.8"
  },
  "orig_nbformat": 2,
  "kernelspec": {
   "name": "python388jvsc74a57bd03524885e8e28558ba8512b7cc9e3b8f5a8a6894467a4225a9bbdc8407c72df26",
   "display_name": "Python 3.8.8 64-bit ('sobolev_alignment': conda)"
  }
 },
 "nbformat": 4,
 "nbformat_minor": 2,
 "cells": [
  {
   "cell_type": "code",
   "execution_count": 1,
   "metadata": {},
   "outputs": [],
   "source": [
    "from pathlib import Path\n",
    "\n",
    "from star_parser import StarParser, StarTabDf\n"
   ]
  },
  {
   "cell_type": "code",
   "execution_count": 9,
   "metadata": {},
   "outputs": [],
   "source": [
    "work_folder = Path(f'/mnt/DATA/andrea/20210525_USP7_GMPS')\n",
    "starfile_in = work_folder/'P66_J50.star'\n",
    "data = StarParser(starfile_in).parse()"
   ]
  },
  {
   "cell_type": "code",
   "execution_count": 10,
   "metadata": {},
   "outputs": [],
   "source": [
    "ptcls = data['data_particles']"
   ]
  },
  {
   "cell_type": "code",
   "execution_count": 11,
   "metadata": {},
   "outputs": [
    {
     "output_type": "execute_result",
     "data": {
      "text/plain": [
       "                                           MicrographName CoordinateX  \\\n",
       "0       J2/motioncorrected/013818530428477513860_AM_20...        2564   \n",
       "1       J2/motioncorrected/013818530428477513860_AM_20...        1562   \n",
       "2       J2/motioncorrected/013818530428477513860_AM_20...        3209   \n",
       "3       J2/motioncorrected/013818530428477513860_AM_20...         634   \n",
       "4       J2/motioncorrected/013818530428477513860_AM_20...         405   \n",
       "...                                                   ...         ...   \n",
       "100810  J2/motioncorrected/012057531733848901854_AM_20...        1253   \n",
       "100811  J2/motioncorrected/012057531733848901854_AM_20...        2111   \n",
       "100812  J2/motioncorrected/012057531733848901854_AM_20...         656   \n",
       "100813  J2/motioncorrected/012057531733848901854_AM_20...        2015   \n",
       "100814  J2/motioncorrected/012057531733848901854_AM_20...        3316   \n",
       "\n",
       "       CoordinateY      DefocusU      DefocusV DefocusAngle PhaseShift  \\\n",
       "0              965  11687.972656  11593.641602    36.414398   0.000000   \n",
       "1             1626  11505.719727  11411.388672    36.414398   0.000000   \n",
       "2             2633  15243.822266  15149.491211    36.414398   0.000000   \n",
       "3              384  12073.649414  11979.318359    36.414398   0.000000   \n",
       "4             3385  11024.894531  10930.563477    36.414398   0.000000   \n",
       "...            ...           ...           ...          ...        ...   \n",
       "100810         389  15940.790039  15570.680664   -36.726151   0.000000   \n",
       "100811         773  15972.133789  15602.024414   -36.726151   0.000000   \n",
       "100812         554  16120.722656  15750.613281   -36.726151   0.000000   \n",
       "100813        1620  16135.970703  15765.861328   -36.726151   0.000000   \n",
       "100814        1482  15979.027344  15608.917969   -36.726151   0.000000   \n",
       "\n",
       "       CtfBfactor OpticsGroup  \n",
       "0        0.000000           1  \n",
       "1        0.000000           1  \n",
       "2        0.000000           1  \n",
       "3        0.000000           1  \n",
       "4        0.000000           1  \n",
       "...           ...         ...  \n",
       "100810   0.000000           1  \n",
       "100811   0.000000           1  \n",
       "100812   0.000000           1  \n",
       "100813   0.000000           1  \n",
       "100814   0.000000           1  \n",
       "\n",
       "[100815 rows x 9 columns]"
      ],
      "text/html": "<div>\n<style scoped>\n    .dataframe tbody tr th:only-of-type {\n        vertical-align: middle;\n    }\n\n    .dataframe tbody tr th {\n        vertical-align: top;\n    }\n\n    .dataframe thead th {\n        text-align: right;\n    }\n</style>\n<table border=\"1\" class=\"dataframe\">\n  <thead>\n    <tr style=\"text-align: right;\">\n      <th></th>\n      <th>MicrographName</th>\n      <th>CoordinateX</th>\n      <th>CoordinateY</th>\n      <th>DefocusU</th>\n      <th>DefocusV</th>\n      <th>DefocusAngle</th>\n      <th>PhaseShift</th>\n      <th>CtfBfactor</th>\n      <th>OpticsGroup</th>\n    </tr>\n  </thead>\n  <tbody>\n    <tr>\n      <th>0</th>\n      <td>J2/motioncorrected/013818530428477513860_AM_20...</td>\n      <td>2564</td>\n      <td>965</td>\n      <td>11687.972656</td>\n      <td>11593.641602</td>\n      <td>36.414398</td>\n      <td>0.000000</td>\n      <td>0.000000</td>\n      <td>1</td>\n    </tr>\n    <tr>\n      <th>1</th>\n      <td>J2/motioncorrected/013818530428477513860_AM_20...</td>\n      <td>1562</td>\n      <td>1626</td>\n      <td>11505.719727</td>\n      <td>11411.388672</td>\n      <td>36.414398</td>\n      <td>0.000000</td>\n      <td>0.000000</td>\n      <td>1</td>\n    </tr>\n    <tr>\n      <th>2</th>\n      <td>J2/motioncorrected/013818530428477513860_AM_20...</td>\n      <td>3209</td>\n      <td>2633</td>\n      <td>15243.822266</td>\n      <td>15149.491211</td>\n      <td>36.414398</td>\n      <td>0.000000</td>\n      <td>0.000000</td>\n      <td>1</td>\n    </tr>\n    <tr>\n      <th>3</th>\n      <td>J2/motioncorrected/013818530428477513860_AM_20...</td>\n      <td>634</td>\n      <td>384</td>\n      <td>12073.649414</td>\n      <td>11979.318359</td>\n      <td>36.414398</td>\n      <td>0.000000</td>\n      <td>0.000000</td>\n      <td>1</td>\n    </tr>\n    <tr>\n      <th>4</th>\n      <td>J2/motioncorrected/013818530428477513860_AM_20...</td>\n      <td>405</td>\n      <td>3385</td>\n      <td>11024.894531</td>\n      <td>10930.563477</td>\n      <td>36.414398</td>\n      <td>0.000000</td>\n      <td>0.000000</td>\n      <td>1</td>\n    </tr>\n    <tr>\n      <th>...</th>\n      <td>...</td>\n      <td>...</td>\n      <td>...</td>\n      <td>...</td>\n      <td>...</td>\n      <td>...</td>\n      <td>...</td>\n      <td>...</td>\n      <td>...</td>\n    </tr>\n    <tr>\n      <th>100810</th>\n      <td>J2/motioncorrected/012057531733848901854_AM_20...</td>\n      <td>1253</td>\n      <td>389</td>\n      <td>15940.790039</td>\n      <td>15570.680664</td>\n      <td>-36.726151</td>\n      <td>0.000000</td>\n      <td>0.000000</td>\n      <td>1</td>\n    </tr>\n    <tr>\n      <th>100811</th>\n      <td>J2/motioncorrected/012057531733848901854_AM_20...</td>\n      <td>2111</td>\n      <td>773</td>\n      <td>15972.133789</td>\n      <td>15602.024414</td>\n      <td>-36.726151</td>\n      <td>0.000000</td>\n      <td>0.000000</td>\n      <td>1</td>\n    </tr>\n    <tr>\n      <th>100812</th>\n      <td>J2/motioncorrected/012057531733848901854_AM_20...</td>\n      <td>656</td>\n      <td>554</td>\n      <td>16120.722656</td>\n      <td>15750.613281</td>\n      <td>-36.726151</td>\n      <td>0.000000</td>\n      <td>0.000000</td>\n      <td>1</td>\n    </tr>\n    <tr>\n      <th>100813</th>\n      <td>J2/motioncorrected/012057531733848901854_AM_20...</td>\n      <td>2015</td>\n      <td>1620</td>\n      <td>16135.970703</td>\n      <td>15765.861328</td>\n      <td>-36.726151</td>\n      <td>0.000000</td>\n      <td>0.000000</td>\n      <td>1</td>\n    </tr>\n    <tr>\n      <th>100814</th>\n      <td>J2/motioncorrected/012057531733848901854_AM_20...</td>\n      <td>3316</td>\n      <td>1482</td>\n      <td>15979.027344</td>\n      <td>15608.917969</td>\n      <td>-36.726151</td>\n      <td>0.000000</td>\n      <td>0.000000</td>\n      <td>1</td>\n    </tr>\n  </tbody>\n</table>\n<p>100815 rows × 9 columns</p>\n</div>"
     },
     "metadata": {},
     "execution_count": 11
    }
   ],
   "source": [
    "ptcls.to_df()"
   ]
  },
  {
   "cell_type": "code",
   "execution_count": 12,
   "metadata": {},
   "outputs": [
    {
     "output_type": "execute_result",
     "data": {
      "text/plain": [
       "                                           MicrographName CoordinateX  \\\n",
       "0       J2/motioncorrected/013818530428477513860_AM_20...        2564   \n",
       "1       J2/motioncorrected/013818530428477513860_AM_20...        1562   \n",
       "2       J2/motioncorrected/013818530428477513860_AM_20...        3209   \n",
       "3       J2/motioncorrected/013818530428477513860_AM_20...         634   \n",
       "4       J2/motioncorrected/013818530428477513860_AM_20...         405   \n",
       "...                                                   ...         ...   \n",
       "100810  J2/motioncorrected/012057531733848901854_AM_20...        1253   \n",
       "100811  J2/motioncorrected/012057531733848901854_AM_20...        2111   \n",
       "100812  J2/motioncorrected/012057531733848901854_AM_20...         656   \n",
       "100813  J2/motioncorrected/012057531733848901854_AM_20...        2015   \n",
       "100814  J2/motioncorrected/012057531733848901854_AM_20...        3316   \n",
       "\n",
       "       CoordinateY  \n",
       "0              965  \n",
       "1             1626  \n",
       "2             2633  \n",
       "3              384  \n",
       "4             3385  \n",
       "...            ...  \n",
       "100810         389  \n",
       "100811         773  \n",
       "100812         554  \n",
       "100813        1620  \n",
       "100814        1482  \n",
       "\n",
       "[100815 rows x 3 columns]"
      ],
      "text/html": "<div>\n<style scoped>\n    .dataframe tbody tr th:only-of-type {\n        vertical-align: middle;\n    }\n\n    .dataframe tbody tr th {\n        vertical-align: top;\n    }\n\n    .dataframe thead th {\n        text-align: right;\n    }\n</style>\n<table border=\"1\" class=\"dataframe\">\n  <thead>\n    <tr style=\"text-align: right;\">\n      <th></th>\n      <th>MicrographName</th>\n      <th>CoordinateX</th>\n      <th>CoordinateY</th>\n    </tr>\n  </thead>\n  <tbody>\n    <tr>\n      <th>0</th>\n      <td>J2/motioncorrected/013818530428477513860_AM_20...</td>\n      <td>2564</td>\n      <td>965</td>\n    </tr>\n    <tr>\n      <th>1</th>\n      <td>J2/motioncorrected/013818530428477513860_AM_20...</td>\n      <td>1562</td>\n      <td>1626</td>\n    </tr>\n    <tr>\n      <th>2</th>\n      <td>J2/motioncorrected/013818530428477513860_AM_20...</td>\n      <td>3209</td>\n      <td>2633</td>\n    </tr>\n    <tr>\n      <th>3</th>\n      <td>J2/motioncorrected/013818530428477513860_AM_20...</td>\n      <td>634</td>\n      <td>384</td>\n    </tr>\n    <tr>\n      <th>4</th>\n      <td>J2/motioncorrected/013818530428477513860_AM_20...</td>\n      <td>405</td>\n      <td>3385</td>\n    </tr>\n    <tr>\n      <th>...</th>\n      <td>...</td>\n      <td>...</td>\n      <td>...</td>\n    </tr>\n    <tr>\n      <th>100810</th>\n      <td>J2/motioncorrected/012057531733848901854_AM_20...</td>\n      <td>1253</td>\n      <td>389</td>\n    </tr>\n    <tr>\n      <th>100811</th>\n      <td>J2/motioncorrected/012057531733848901854_AM_20...</td>\n      <td>2111</td>\n      <td>773</td>\n    </tr>\n    <tr>\n      <th>100812</th>\n      <td>J2/motioncorrected/012057531733848901854_AM_20...</td>\n      <td>656</td>\n      <td>554</td>\n    </tr>\n    <tr>\n      <th>100813</th>\n      <td>J2/motioncorrected/012057531733848901854_AM_20...</td>\n      <td>2015</td>\n      <td>1620</td>\n    </tr>\n    <tr>\n      <th>100814</th>\n      <td>J2/motioncorrected/012057531733848901854_AM_20...</td>\n      <td>3316</td>\n      <td>1482</td>\n    </tr>\n  </tbody>\n</table>\n<p>100815 rows × 3 columns</p>\n</div>"
     },
     "metadata": {},
     "execution_count": 12
    }
   ],
   "source": [
    "ptcls.keep_only_columns(['MicrographName','CoordinateX','CoordinateY'], store=True)"
   ]
  },
  {
   "cell_type": "code",
   "execution_count": 13,
   "metadata": {},
   "outputs": [
    {
     "output_type": "execute_result",
     "data": {
      "text/plain": [
       "                                           MicrographName CoordinateX  \\\n",
       "0       013818530428477513860_AM_20210225_002_patch_al...        2564   \n",
       "1       013818530428477513860_AM_20210225_002_patch_al...        1562   \n",
       "2       013818530428477513860_AM_20210225_002_patch_al...        3209   \n",
       "3       013818530428477513860_AM_20210225_002_patch_al...         634   \n",
       "4       013818530428477513860_AM_20210225_002_patch_al...         405   \n",
       "...                                                   ...         ...   \n",
       "100810  012057531733848901854_AM_20210525_406_patch_al...        1253   \n",
       "100811  012057531733848901854_AM_20210525_406_patch_al...        2111   \n",
       "100812  012057531733848901854_AM_20210525_406_patch_al...         656   \n",
       "100813  012057531733848901854_AM_20210525_406_patch_al...        2015   \n",
       "100814  012057531733848901854_AM_20210525_406_patch_al...        3316   \n",
       "\n",
       "       CoordinateY  \n",
       "0              965  \n",
       "1             1626  \n",
       "2             2633  \n",
       "3              384  \n",
       "4             3385  \n",
       "...            ...  \n",
       "100810         389  \n",
       "100811         773  \n",
       "100812         554  \n",
       "100813        1620  \n",
       "100814        1482  \n",
       "\n",
       "[100815 rows x 3 columns]"
      ],
      "text/html": "<div>\n<style scoped>\n    .dataframe tbody tr th:only-of-type {\n        vertical-align: middle;\n    }\n\n    .dataframe tbody tr th {\n        vertical-align: top;\n    }\n\n    .dataframe thead th {\n        text-align: right;\n    }\n</style>\n<table border=\"1\" class=\"dataframe\">\n  <thead>\n    <tr style=\"text-align: right;\">\n      <th></th>\n      <th>MicrographName</th>\n      <th>CoordinateX</th>\n      <th>CoordinateY</th>\n    </tr>\n  </thead>\n  <tbody>\n    <tr>\n      <th>0</th>\n      <td>013818530428477513860_AM_20210225_002_patch_al...</td>\n      <td>2564</td>\n      <td>965</td>\n    </tr>\n    <tr>\n      <th>1</th>\n      <td>013818530428477513860_AM_20210225_002_patch_al...</td>\n      <td>1562</td>\n      <td>1626</td>\n    </tr>\n    <tr>\n      <th>2</th>\n      <td>013818530428477513860_AM_20210225_002_patch_al...</td>\n      <td>3209</td>\n      <td>2633</td>\n    </tr>\n    <tr>\n      <th>3</th>\n      <td>013818530428477513860_AM_20210225_002_patch_al...</td>\n      <td>634</td>\n      <td>384</td>\n    </tr>\n    <tr>\n      <th>4</th>\n      <td>013818530428477513860_AM_20210225_002_patch_al...</td>\n      <td>405</td>\n      <td>3385</td>\n    </tr>\n    <tr>\n      <th>...</th>\n      <td>...</td>\n      <td>...</td>\n      <td>...</td>\n    </tr>\n    <tr>\n      <th>100810</th>\n      <td>012057531733848901854_AM_20210525_406_patch_al...</td>\n      <td>1253</td>\n      <td>389</td>\n    </tr>\n    <tr>\n      <th>100811</th>\n      <td>012057531733848901854_AM_20210525_406_patch_al...</td>\n      <td>2111</td>\n      <td>773</td>\n    </tr>\n    <tr>\n      <th>100812</th>\n      <td>012057531733848901854_AM_20210525_406_patch_al...</td>\n      <td>656</td>\n      <td>554</td>\n    </tr>\n    <tr>\n      <th>100813</th>\n      <td>012057531733848901854_AM_20210525_406_patch_al...</td>\n      <td>2015</td>\n      <td>1620</td>\n    </tr>\n    <tr>\n      <th>100814</th>\n      <td>012057531733848901854_AM_20210525_406_patch_al...</td>\n      <td>3316</td>\n      <td>1482</td>\n    </tr>\n  </tbody>\n</table>\n<p>100815 rows × 3 columns</p>\n</div>"
     },
     "metadata": {},
     "execution_count": 13
    }
   ],
   "source": [
    "ptcls.remove_prefix_from_column('J2/motioncorrected/','MicrographName', store=True)"
   ]
  },
  {
   "cell_type": "code",
   "execution_count": 20,
   "metadata": {},
   "outputs": [],
   "source": [
    "split = ptcls.to_df().groupby('MicrographName')\n",
    "split_dir = Path('/mnt/DATA/andrea/20210525_USP7_GMPS/cryosparc_exported_coords/split_star')\n",
    "if not split_dir.exists():\n",
    "    split_dir.mkdir()\n",
    "for fname, data in split:\n",
    "    x = StarTabDf(data)\n",
    "    x.remove_columns('MicrographName', store=True)\n",
    "    fname = fname.replace('.mrc','.star')\n",
    "    with open(split_dir/fname, 'w') as f:\n",
    "        f.write(x.to_star())\n"
   ]
  },
  {
   "cell_type": "code",
   "execution_count": 17,
   "metadata": {},
   "outputs": [
    {
     "output_type": "execute_result",
     "data": {
      "text/plain": [
       "PosixPath('/mnt/DATA/andrea/20210525_USP7_GMPS')"
      ]
     },
     "metadata": {},
     "execution_count": 17
    }
   ],
   "source": [
    "work_folder"
   ]
  },
  {
   "cell_type": "code",
   "execution_count": null,
   "metadata": {},
   "outputs": [],
   "source": []
  }
 ]
}