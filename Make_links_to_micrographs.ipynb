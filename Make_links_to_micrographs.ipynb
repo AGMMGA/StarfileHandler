{
 "cells": [
  {
   "cell_type": "code",
   "execution_count": 2,
   "metadata": {},
   "outputs": [],
   "source": [
    "from pathlib import Path\n"
   ]
  },
  {
   "cell_type": "code",
   "execution_count": 3,
   "metadata": {},
   "outputs": [],
   "source": [
    "base_path = Path('/mnt/DATA/andrea/AM_20211112_NeCen_BRCA1AUb')\n",
    "micrographs_folder = base_path/'MotionCorr/job004/Micrographs'\n",
    "link_folder = base_path/'cryolo_pick/relion_micrographs'\n",
    "micrograph_file_pattern = \"*fractions.mrc\"\n",
    "try:\n",
    "    assert micrographs_folder.exists()\n",
    "except AssertionError:\n",
    "    raise AssertionError(f'Folder {micrographs_folder} does not exist')\n",
    "try:\n",
    "    assert link_folder.exists()\n",
    "except AssertionError:\n",
    "    raise AssertionError(f'Folder {link_folder} does not exist')"
   ]
  },
  {
   "cell_type": "code",
   "execution_count": 4,
   "metadata": {},
   "outputs": [],
   "source": [
    "micrographs = list(micrographs_folder.glob(micrograph_file_pattern))"
   ]
  },
  {
   "cell_type": "code",
   "execution_count": 6,
   "metadata": {},
   "outputs": [],
   "source": [
    "overwrite = True\n",
    "if not micrographs:\n",
    "    raise OSError(f'No micrographs found in {micrographs_folder} with name {micrograph_file_pattern}')\n",
    "for m in micrographs:\n",
    "    link_name = link_folder/m.name\n",
    "    if overwrite and link_name.exists():\n",
    "        link_name.unlink()\n",
    "    link_name.symlink_to(m)"
   ]
  },
  {
   "cell_type": "code",
   "execution_count": null,
   "metadata": {},
   "outputs": [],
   "source": [
    "coll"
   ]
  }
 ],
 "metadata": {
  "interpreter": {
   "hash": "003fc63fc75231966414e17ed2789cc8e150c54ca8218e26a9edc237f43d7a56"
  },
  "kernelspec": {
   "display_name": "Python 3.6.10 64-bit ('cryolo': conda)",
   "name": "python3"
  },
  "language_info": {
   "codemirror_mode": {
    "name": "ipython",
    "version": 3
   },
   "file_extension": ".py",
   "mimetype": "text/x-python",
   "name": "python",
   "nbconvert_exporter": "python",
   "pygments_lexer": "ipython3",
   "version": "3.6.10"
  },
  "orig_nbformat": 4
 },
 "nbformat": 4,
 "nbformat_minor": 2
}
