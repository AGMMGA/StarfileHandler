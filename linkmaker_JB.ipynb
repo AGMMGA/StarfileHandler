{
 "metadata": {
  "language_info": {
   "codemirror_mode": {
    "name": "ipython",
    "version": 3
   },
   "file_extension": ".py",
   "mimetype": "text/x-python",
   "name": "python",
   "nbconvert_exporter": "python",
   "pygments_lexer": "ipython3",
   "version": "3.6.10"
  },
  "orig_nbformat": 2,
  "kernelspec": {
   "name": "python3",
   "display_name": "Python 3.6.10 64-bit ('cryolo': conda)"
  },
  "interpreter": {
   "hash": "003fc63fc75231966414e17ed2789cc8e150c54ca8218e26a9edc237f43d7a56"
  }
 },
 "nbformat": 4,
 "nbformat_minor": 2,
 "cells": [
  {
   "cell_type": "code",
   "execution_count": 43,
   "source": [
    "import re\n",
    "import copy\n",
    "\n",
    "import pandas as pd\n",
    "import numpy as np\n",
    "\n",
    "from pathlib import Path\n",
    "\n",
    "from star_parser import StarParser, StarTabDf\n"
   ],
   "outputs": [],
   "metadata": {}
  },
  {
   "cell_type": "code",
   "execution_count": 44,
   "source": [
    "work_folder = Path(r\"/mnt/DATA/jitske/JB_20210825_FT040_NeCeN/csparc2relion\")\n",
    "star_in = work_folder/\"P101_J25_passthrough_particles_class_2.star\"\n",
    "star_in.exists()"
   ],
   "outputs": [
    {
     "output_type": "execute_result",
     "data": {
      "text/plain": [
       "True"
      ]
     },
     "metadata": {},
     "execution_count": 44
    }
   ],
   "metadata": {}
  },
  {
   "cell_type": "code",
   "execution_count": 45,
   "source": [
    "parser = StarParser(star_in)\n",
    "data = parser.parse()\n",
    "ptcls = data['data_particles']"
   ],
   "outputs": [],
   "metadata": {}
  },
  {
   "cell_type": "code",
   "execution_count": 56,
   "source": [
    "starfile_images = set(list(ptcls.to_df()['ImageName']))\n",
    "link_folder = Path('/mnt/DATA/jitske/JB_20210825_FT040_NeCeN/Extract/job255/Micrographs')\n",
    "original_mic_folder = Path('/mnt/DATA/jitske/JB_20210825_FT040_NeCeN/P101/')\n",
    "\n",
    "link_origin = []\n",
    "for mic in starfile_images:\n",
    "    mic = mic.split('FoilHole')\n",
    "    mic = 'FoilHole' + mic[-1]\n",
    "    mic = mic.replace('_patch_aligned_doseweighted_particles.mrc', '.mrcs')\n",
    "    link_origin.append(link_folder/mic)\n",
    "link_destination = []\n",
    "for m in starfile_images:\n",
    "    mic = m.split('@')[-1]\n",
    "    mic = original_mic_folder/mic\n",
    "    link_destination.append(mic)"
   ],
   "outputs": [],
   "metadata": {}
  },
  {
   "cell_type": "code",
   "execution_count": 57,
   "source": [
    "for index, origin in enumerate(link_origin):\n",
    "    if origin.exists():\n",
    "        continue\n",
    "    origin.symlink_to(link_destination[index])\n"
   ],
   "outputs": [],
   "metadata": {}
  },
  {
   "cell_type": "code",
   "execution_count": 40,
   "source": [
    "link_target = Path('/mnt/home/a.murachelli/temp')\n",
    "link_origin = Path('/mnt/home/a.murachelli/foo')\n",
    "link_origin.symlink_to(link_target)"
   ],
   "outputs": [],
   "metadata": {}
  },
  {
   "cell_type": "code",
   "execution_count": 50,
   "source": [
    "len(list(set(link_origin)))"
   ],
   "outputs": [
    {
     "output_type": "execute_result",
     "data": {
      "text/plain": [
       "7458"
      ]
     },
     "metadata": {},
     "execution_count": 50
    }
   ],
   "metadata": {}
  },
  {
   "cell_type": "code",
   "execution_count": null,
   "source": [],
   "outputs": [],
   "metadata": {}
  }
 ]
}