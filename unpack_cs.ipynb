{
 "cells": [
  {
   "cell_type": "code",
   "execution_count": 9,
   "metadata": {},
   "outputs": [
    {
     "name": "stdout",
     "output_type": "stream",
     "text": [
      "The autoreload extension is already loaded. To reload it, use:\n",
      "  %reload_ext autoreload\n"
     ]
    }
   ],
   "source": [
    "#allow autoreload modules at every execution if requested\n",
    "%load_ext autoreload\n",
    "\n",
    "import tempfile\n",
    "import unittest\n",
    "\n",
    "from pathlib import Path\n",
    "from pprint import pprint\n",
    "\n",
    "import numpy as np\n",
    "import pandas as pd\n",
    "\n",
    "from cs_parser import CsParser, mappings\n",
    "from star_parser import StarTabDf, StarParser"
   ]
  },
  {
   "cell_type": "code",
   "execution_count": 10,
   "metadata": {},
   "outputs": [
    {
     "data": {
      "text/plain": [
       "True"
      ]
     },
     "execution_count": 10,
     "metadata": {},
     "output_type": "execute_result"
    }
   ],
   "source": [
    "%autoreload 2\n",
    "work_folder = Path(\"/mnt/home/a.murachelli/Downloads/\")\n",
    "micrographs_file = work_folder/\"imported_movies.cs\"\n",
    "micrographs_file.exists()\n"
   ]
  },
  {
   "cell_type": "code",
   "execution_count": 11,
   "metadata": {},
   "outputs": [],
   "source": [
    "# link_folder = Path(\"/mnt/DATA/andrea/AM_20211112_NeCen_BRCA1AUb/cryolo_train/micrographs\")\n",
    "# project_prefix = '/mnt/DATA/andrea/AM_20211112_NeCen_BRCA1AUb/P112/' #to be added to the link target because cryosparc only adds job number to the path;\n",
    "# update_links = True #overwrite links if they already exist\n",
    "# try:\n",
    "#     assert micrographs_file.exists()\n",
    "# except AssertionError:\n",
    "#     raise AssertionError(f'File {micrographs_file} does not exist')\n",
    "# particles_file = work_folder/\"J89_particles_accepted.cs\"\n",
    "# particle_starfile = work_folder/\"J89_particles_selected.star\"\n",
    "parser = CsParser(micrographs_file)\n",
    "array = parser.parse_array()"
   ]
  },
  {
   "cell_type": "code",
   "execution_count": 12,
   "metadata": {},
   "outputs": [],
   "source": [
    "\n",
    "##process micrograph blob\n",
    "# remove multidimensional arrays\n",
    "a = array.cs_array.copy()\n",
    "dtypes = a.dtype.fields\n",
    "problematic = []\n",
    "clean = []\n",
    "for index, value in enumerate(list(a[0])):\n",
    "    if isinstance(value, np.ndarray):\n",
    "        key = list(a.dtype.fields.keys())[index]\n",
    "        problematic.append(key)\n",
    "    else:\n",
    "        key = list(a.dtype.fields.keys())[index]\n",
    "        clean.append(key)\n",
    "good = a[clean]\n",
    "#process micrograph paths \n",
    "df = pd.DataFrame(good)\n"
   ]
  },
  {
   "cell_type": "code",
   "execution_count": 18,
   "metadata": {},
   "outputs": [],
   "source": [
    "import shutil\n",
    "df1 = list(df['movie_blob/path'].apply(lambda x: x.decode('utf-8')))\n",
    "df2 = [x[len('J5/imported/016669088211364111591_'):] for x in df1]\n",
    "destination = Path('/em-images/2022/NK_20220301_NeCen/Micrographs/50_frames')\n",
    "origin = Path('/em-images/2022/NK_20220301_NeCen/Micrographs')\n",
    "for mic in df2:\n",
    "    dest_m = destination/mic\n",
    "    origin_m = origin/mic\n",
    "    assert origin_m.exists()\n",
    "    shutil.move(origin_m, dest_m)\n"
   ]
  },
  {
   "cell_type": "code",
   "execution_count": 24,
   "metadata": {},
   "outputs": [],
   "source": [
    "for mic in df2:\n",
    "    xml = mic[:-4] + 'xml'\n",
    "    dest_xml = destination/xml\n",
    "    origin_xml = origin/xml\n",
    "    shutil.move(origin_xml, dest_xml)"
   ]
  },
  {
   "cell_type": "code",
   "execution_count": null,
   "metadata": {},
   "outputs": [],
   "source": [
    "mics = df['movie_blob/path'].apply(lambda x: project_prefix + x.decode('utf-8'))\n",
    "mics = [work_folder/i for i in mics]\n",
    "#make links\n",
    "if not link_folder.exists():\n",
    "    link_folder.mkdir(parents=True)\n",
    "for m in mics:\n",
    "    print(f'mic is {m}')\n",
    "    assert m.exists()\n",
    "    link_name = link_folder/m.name\n",
    "    if update_links:\n",
    "        link_name.unlink(missing_ok=True)\n",
    "    print(f'link is {link_name}')\n",
    "    break\n",
    "    # link_name.symlink_to(m, )\n"
   ]
  },
  {
   "cell_type": "code",
   "execution_count": null,
   "metadata": {},
   "outputs": [],
   "source": []
  }
 ],
 "metadata": {
  "interpreter": {
   "hash": "6f968289293630ebd2ac7aad47f58f0fb458534ba97e3ee64d2b97a797be8954"
  },
  "kernelspec": {
   "display_name": "Python 3.9.7 64-bit ('starfile': conda)",
   "name": "python3"
  },
  "language_info": {
   "codemirror_mode": {
    "name": "ipython",
    "version": 3
   },
   "file_extension": ".py",
   "mimetype": "text/x-python",
   "name": "python",
   "nbconvert_exporter": "python",
   "pygments_lexer": "ipython3",
   "version": "3.9.7"
  },
  "orig_nbformat": 4
 },
 "nbformat": 4,
 "nbformat_minor": 2
}
