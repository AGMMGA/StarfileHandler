{
 "metadata": {
  "language_info": {
   "codemirror_mode": {
    "name": "ipython",
    "version": 3
   },
   "file_extension": ".py",
   "mimetype": "text/x-python",
   "name": "python",
   "nbconvert_exporter": "python",
   "pygments_lexer": "ipython3",
   "version": "3.8.8"
  },
  "orig_nbformat": 2,
  "kernelspec": {
   "name": "python388jvsc74a57bd03524885e8e28558ba8512b7cc9e3b8f5a8a6894467a4225a9bbdc8407c72df26",
   "display_name": "Python 3.8.8 64-bit ('sobolev_alignment': conda)"
  }
 },
 "nbformat": 4,
 "nbformat_minor": 2,
 "cells": [
  {
   "cell_type": "code",
   "execution_count": 14,
   "metadata": {},
   "outputs": [],
   "source": [
    "import pandas as pd\n",
    "\n",
    "from pathlib import Path\n",
    "\n",
    "from star_parser import StarParser, StarTabDf"
   ]
  },
  {
   "cell_type": "code",
   "execution_count": 2,
   "metadata": {},
   "outputs": [
    {
     "output_type": "execute_result",
     "data": {
      "text/plain": [
       "True"
      ]
     },
     "metadata": {},
     "execution_count": 2
    }
   ],
   "source": [
    "work_folder = Path(r\"/mnt/home/a.murachelli/temp/niels\")\n",
    "star_in=work_folder/\"P53_J368.star\"\n",
    "star_in.exists()"
   ]
  },
  {
   "cell_type": "code",
   "execution_count": 3,
   "metadata": {},
   "outputs": [],
   "source": [
    "parser = StarParser(star_in)\n",
    "data = parser.parse()\n"
   ]
  },
  {
   "cell_type": "code",
   "execution_count": 4,
   "metadata": {},
   "outputs": [
    {
     "output_type": "execute_result",
     "data": {
      "text/plain": [
       "                                           MicrographName CoordinateX  \\\n",
       "0       J35/motioncorrected/000013529656059020034_Foil...        3668   \n",
       "1       J35/motioncorrected/000013529656059020034_Foil...         272   \n",
       "2       J35/motioncorrected/000013529656059020034_Foil...        2984   \n",
       "3       J35/motioncorrected/000013529656059020034_Foil...        1476   \n",
       "4       J35/motioncorrected/000013529656059020034_Foil...        2688   \n",
       "...                                                   ...         ...   \n",
       "201274  J35/motioncorrected/018430751161974202437_Foil...        5268   \n",
       "201275  J35/motioncorrected/018430751161974202437_Foil...        4272   \n",
       "201276  J35/motioncorrected/018430751161974202437_Foil...         596   \n",
       "201277  J35/motioncorrected/018430751161974202437_Foil...         196   \n",
       "201278  J35/motioncorrected/018430751161974202437_Foil...        1588   \n",
       "\n",
       "       CoordinateY  \n",
       "0             1508  \n",
       "1             2532  \n",
       "2             2928  \n",
       "3             2584  \n",
       "4             2772  \n",
       "...            ...  \n",
       "201274        2052  \n",
       "201275        1040  \n",
       "201276         300  \n",
       "201277        3840  \n",
       "201278        2048  \n",
       "\n",
       "[201279 rows x 3 columns]"
      ],
      "text/html": "<div>\n<style scoped>\n    .dataframe tbody tr th:only-of-type {\n        vertical-align: middle;\n    }\n\n    .dataframe tbody tr th {\n        vertical-align: top;\n    }\n\n    .dataframe thead th {\n        text-align: right;\n    }\n</style>\n<table border=\"1\" class=\"dataframe\">\n  <thead>\n    <tr style=\"text-align: right;\">\n      <th></th>\n      <th>MicrographName</th>\n      <th>CoordinateX</th>\n      <th>CoordinateY</th>\n    </tr>\n  </thead>\n  <tbody>\n    <tr>\n      <th>0</th>\n      <td>J35/motioncorrected/000013529656059020034_Foil...</td>\n      <td>3668</td>\n      <td>1508</td>\n    </tr>\n    <tr>\n      <th>1</th>\n      <td>J35/motioncorrected/000013529656059020034_Foil...</td>\n      <td>272</td>\n      <td>2532</td>\n    </tr>\n    <tr>\n      <th>2</th>\n      <td>J35/motioncorrected/000013529656059020034_Foil...</td>\n      <td>2984</td>\n      <td>2928</td>\n    </tr>\n    <tr>\n      <th>3</th>\n      <td>J35/motioncorrected/000013529656059020034_Foil...</td>\n      <td>1476</td>\n      <td>2584</td>\n    </tr>\n    <tr>\n      <th>4</th>\n      <td>J35/motioncorrected/000013529656059020034_Foil...</td>\n      <td>2688</td>\n      <td>2772</td>\n    </tr>\n    <tr>\n      <th>...</th>\n      <td>...</td>\n      <td>...</td>\n      <td>...</td>\n    </tr>\n    <tr>\n      <th>201274</th>\n      <td>J35/motioncorrected/018430751161974202437_Foil...</td>\n      <td>5268</td>\n      <td>2052</td>\n    </tr>\n    <tr>\n      <th>201275</th>\n      <td>J35/motioncorrected/018430751161974202437_Foil...</td>\n      <td>4272</td>\n      <td>1040</td>\n    </tr>\n    <tr>\n      <th>201276</th>\n      <td>J35/motioncorrected/018430751161974202437_Foil...</td>\n      <td>596</td>\n      <td>300</td>\n    </tr>\n    <tr>\n      <th>201277</th>\n      <td>J35/motioncorrected/018430751161974202437_Foil...</td>\n      <td>196</td>\n      <td>3840</td>\n    </tr>\n    <tr>\n      <th>201278</th>\n      <td>J35/motioncorrected/018430751161974202437_Foil...</td>\n      <td>1588</td>\n      <td>2048</td>\n    </tr>\n  </tbody>\n</table>\n<p>201279 rows × 3 columns</p>\n</div>"
     },
     "metadata": {},
     "execution_count": 4
    }
   ],
   "source": [
    "ptcls = data[\"data_particles\"]\n",
    "ptcls.keep_only_columns(['MicrographName','CoordinateX','CoordinateY'], store=True)"
   ]
  },
  {
   "cell_type": "code",
   "execution_count": 5,
   "metadata": {},
   "outputs": [
    {
     "output_type": "execute_result",
     "data": {
      "text/plain": [
       "                                           MicrographName CoordinateX  \\\n",
       "0       000013529656059020034_FoilHole_16912696_Data_1...        3668   \n",
       "1       000013529656059020034_FoilHole_16912696_Data_1...         272   \n",
       "2       000013529656059020034_FoilHole_16912696_Data_1...        2984   \n",
       "3       000013529656059020034_FoilHole_16912696_Data_1...        1476   \n",
       "4       000013529656059020034_FoilHole_16912696_Data_1...        2688   \n",
       "...                                                   ...         ...   \n",
       "201274  018430751161974202437_FoilHole_16908561_Data_1...        5268   \n",
       "201275  018430751161974202437_FoilHole_16908561_Data_1...        4272   \n",
       "201276  018430751161974202437_FoilHole_16908561_Data_1...         596   \n",
       "201277  018430751161974202437_FoilHole_16908561_Data_1...         196   \n",
       "201278  018430751161974202437_FoilHole_16908561_Data_1...        1588   \n",
       "\n",
       "       CoordinateY  \n",
       "0             1508  \n",
       "1             2532  \n",
       "2             2928  \n",
       "3             2584  \n",
       "4             2772  \n",
       "...            ...  \n",
       "201274        2052  \n",
       "201275        1040  \n",
       "201276         300  \n",
       "201277        3840  \n",
       "201278        2048  \n",
       "\n",
       "[201279 rows x 3 columns]"
      ],
      "text/html": "<div>\n<style scoped>\n    .dataframe tbody tr th:only-of-type {\n        vertical-align: middle;\n    }\n\n    .dataframe tbody tr th {\n        vertical-align: top;\n    }\n\n    .dataframe thead th {\n        text-align: right;\n    }\n</style>\n<table border=\"1\" class=\"dataframe\">\n  <thead>\n    <tr style=\"text-align: right;\">\n      <th></th>\n      <th>MicrographName</th>\n      <th>CoordinateX</th>\n      <th>CoordinateY</th>\n    </tr>\n  </thead>\n  <tbody>\n    <tr>\n      <th>0</th>\n      <td>000013529656059020034_FoilHole_16912696_Data_1...</td>\n      <td>3668</td>\n      <td>1508</td>\n    </tr>\n    <tr>\n      <th>1</th>\n      <td>000013529656059020034_FoilHole_16912696_Data_1...</td>\n      <td>272</td>\n      <td>2532</td>\n    </tr>\n    <tr>\n      <th>2</th>\n      <td>000013529656059020034_FoilHole_16912696_Data_1...</td>\n      <td>2984</td>\n      <td>2928</td>\n    </tr>\n    <tr>\n      <th>3</th>\n      <td>000013529656059020034_FoilHole_16912696_Data_1...</td>\n      <td>1476</td>\n      <td>2584</td>\n    </tr>\n    <tr>\n      <th>4</th>\n      <td>000013529656059020034_FoilHole_16912696_Data_1...</td>\n      <td>2688</td>\n      <td>2772</td>\n    </tr>\n    <tr>\n      <th>...</th>\n      <td>...</td>\n      <td>...</td>\n      <td>...</td>\n    </tr>\n    <tr>\n      <th>201274</th>\n      <td>018430751161974202437_FoilHole_16908561_Data_1...</td>\n      <td>5268</td>\n      <td>2052</td>\n    </tr>\n    <tr>\n      <th>201275</th>\n      <td>018430751161974202437_FoilHole_16908561_Data_1...</td>\n      <td>4272</td>\n      <td>1040</td>\n    </tr>\n    <tr>\n      <th>201276</th>\n      <td>018430751161974202437_FoilHole_16908561_Data_1...</td>\n      <td>596</td>\n      <td>300</td>\n    </tr>\n    <tr>\n      <th>201277</th>\n      <td>018430751161974202437_FoilHole_16908561_Data_1...</td>\n      <td>196</td>\n      <td>3840</td>\n    </tr>\n    <tr>\n      <th>201278</th>\n      <td>018430751161974202437_FoilHole_16908561_Data_1...</td>\n      <td>1588</td>\n      <td>2048</td>\n    </tr>\n  </tbody>\n</table>\n<p>201279 rows × 3 columns</p>\n</div>"
     },
     "metadata": {},
     "execution_count": 5
    }
   ],
   "source": [
    "prefix = \"J35/motioncorrected/\"\n",
    "ptcls.remove_prefix_from_column(prefix, 'MicrographName', store=True)"
   ]
  },
  {
   "cell_type": "code",
   "execution_count": 6,
   "metadata": {},
   "outputs": [
    {
     "output_type": "execute_result",
     "data": {
      "text/plain": [
       "                                           MicrographName CoordinateX  \\\n",
       "0       FoilHole_16912696_Data_16904189_16904191_20210...        3668   \n",
       "1       FoilHole_16912696_Data_16904189_16904191_20210...         272   \n",
       "2       FoilHole_16912696_Data_16904189_16904191_20210...        2984   \n",
       "3       FoilHole_16912696_Data_16904189_16904191_20210...        1476   \n",
       "4       FoilHole_16912696_Data_16904189_16904191_20210...        2688   \n",
       "...                                                   ...         ...   \n",
       "201274  FoilHole_16908561_Data_16904183_16904185_20210...        5268   \n",
       "201275  FoilHole_16908561_Data_16904183_16904185_20210...        4272   \n",
       "201276  FoilHole_16908561_Data_16904183_16904185_20210...         596   \n",
       "201277  FoilHole_16908561_Data_16904183_16904185_20210...         196   \n",
       "201278  FoilHole_16908561_Data_16904183_16904185_20210...        1588   \n",
       "\n",
       "       CoordinateY  \n",
       "0             1508  \n",
       "1             2532  \n",
       "2             2928  \n",
       "3             2584  \n",
       "4             2772  \n",
       "...            ...  \n",
       "201274        2052  \n",
       "201275        1040  \n",
       "201276         300  \n",
       "201277        3840  \n",
       "201278        2048  \n",
       "\n",
       "[201279 rows x 3 columns]"
      ],
      "text/html": "<div>\n<style scoped>\n    .dataframe tbody tr th:only-of-type {\n        vertical-align: middle;\n    }\n\n    .dataframe tbody tr th {\n        vertical-align: top;\n    }\n\n    .dataframe thead th {\n        text-align: right;\n    }\n</style>\n<table border=\"1\" class=\"dataframe\">\n  <thead>\n    <tr style=\"text-align: right;\">\n      <th></th>\n      <th>MicrographName</th>\n      <th>CoordinateX</th>\n      <th>CoordinateY</th>\n    </tr>\n  </thead>\n  <tbody>\n    <tr>\n      <th>0</th>\n      <td>FoilHole_16912696_Data_16904189_16904191_20210...</td>\n      <td>3668</td>\n      <td>1508</td>\n    </tr>\n    <tr>\n      <th>1</th>\n      <td>FoilHole_16912696_Data_16904189_16904191_20210...</td>\n      <td>272</td>\n      <td>2532</td>\n    </tr>\n    <tr>\n      <th>2</th>\n      <td>FoilHole_16912696_Data_16904189_16904191_20210...</td>\n      <td>2984</td>\n      <td>2928</td>\n    </tr>\n    <tr>\n      <th>3</th>\n      <td>FoilHole_16912696_Data_16904189_16904191_20210...</td>\n      <td>1476</td>\n      <td>2584</td>\n    </tr>\n    <tr>\n      <th>4</th>\n      <td>FoilHole_16912696_Data_16904189_16904191_20210...</td>\n      <td>2688</td>\n      <td>2772</td>\n    </tr>\n    <tr>\n      <th>...</th>\n      <td>...</td>\n      <td>...</td>\n      <td>...</td>\n    </tr>\n    <tr>\n      <th>201274</th>\n      <td>FoilHole_16908561_Data_16904183_16904185_20210...</td>\n      <td>5268</td>\n      <td>2052</td>\n    </tr>\n    <tr>\n      <th>201275</th>\n      <td>FoilHole_16908561_Data_16904183_16904185_20210...</td>\n      <td>4272</td>\n      <td>1040</td>\n    </tr>\n    <tr>\n      <th>201276</th>\n      <td>FoilHole_16908561_Data_16904183_16904185_20210...</td>\n      <td>596</td>\n      <td>300</td>\n    </tr>\n    <tr>\n      <th>201277</th>\n      <td>FoilHole_16908561_Data_16904183_16904185_20210...</td>\n      <td>196</td>\n      <td>3840</td>\n    </tr>\n    <tr>\n      <th>201278</th>\n      <td>FoilHole_16908561_Data_16904183_16904185_20210...</td>\n      <td>1588</td>\n      <td>2048</td>\n    </tr>\n  </tbody>\n</table>\n<p>201279 rows × 3 columns</p>\n</div>"
     },
     "metadata": {},
     "execution_count": 6
    }
   ],
   "source": [
    "ptcls.trim_column_values('MicrographName', start=len('000013529656059020034_'), store=True)\n"
   ]
  },
  {
   "cell_type": "code",
   "execution_count": 7,
   "metadata": {},
   "outputs": [
    {
     "output_type": "execute_result",
     "data": {
      "text/plain": [
       "'FoilHole_16912696_Data_16904189_16904191_20210317_231414_fractions.mrc'"
      ]
     },
     "metadata": {},
     "execution_count": 7
    }
   ],
   "source": [
    "ptcls.remove_prefix_from_column('_patch_aligned_doseweighted', 'MicrographName', store=True)\n",
    "ptcls.to_df()['MicrographName'][0]"
   ]
  },
  {
   "cell_type": "code",
   "execution_count": 21,
   "metadata": {},
   "outputs": [],
   "source": [
    "split = ptcls.to_df().groupby('MicrographName')\n",
    "split_dir = work_folder/'split_star'\n",
    "if not split_dir.exists():\n",
    "    split_dir.mkdir()\n",
    "for fname, data in split:\n",
    "    x = StarTabDf(data)\n",
    "    fname = fname.replace('.mrc','.star')\n",
    "    with open(split_dir/fname, 'w') as f:\n",
    "        f.write(x.to_star())\n"
   ]
  },
  {
   "cell_type": "code",
   "execution_count": 16,
   "metadata": {},
   "outputs": [
    {
     "output_type": "execute_result",
     "data": {
      "text/plain": [
       "PosixPath('/mnt/home/a.murachelli/temp/niels')"
      ]
     },
     "metadata": {},
     "execution_count": 16
    }
   ],
   "source": [
    "work_folder"
   ]
  },
  {
   "cell_type": "code",
   "execution_count": null,
   "metadata": {},
   "outputs": [],
   "source": []
  }
 ]
}